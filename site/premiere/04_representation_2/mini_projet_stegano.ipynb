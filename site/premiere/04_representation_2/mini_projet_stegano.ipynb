{
 "cells": [
  {
   "attachments": {},
   "cell_type": "markdown",
   "metadata": {},
   "source": [
    "---\n",
    "title: Mini-Projet Stéganographie\n",
    "lang: fr\n",
    "format:\n",
    "    html: default\n",
    "    pdf: \n",
    "        geometry:\n",
    "            - top=20mm\n",
    "            - bottom=20mm\n",
    "            - left=20mm\n",
    "            - right=20mm\n",
    "            - heightrounded\n",
    "        include-in-header:\n",
    "            - text:\n",
    "                \\usepackage{fancyhdr}\n",
    "                \\pagestyle{fancy}\n",
    "                \\usepackage{lastpage}\n",
    "        include-before-body:\n",
    "            - text:\n",
    "                \\lhead{Spécialité NSI - Première} \n",
    "                \\rhead{}\n",
    "                \\chead{} \n",
    "                \\cfoot{}\n",
    "                \\lfoot{Lycée \\'Emile Duclaux}\n",
    "                \\rfoot{Page \\thepage/\\pageref{LastPage}}\n",
    "                \\renewcommand{\\headrulewidth}{0pt}\n",
    "                \\renewcommand{\\footrulewidth}{0pt}\n",
    "                \\thispagestyle{fancy}\n",
    "        biblio-title: Sources utilisées\n",
    "        reference-location: document\n",
    "format-links: [pdf]\n",
    "---\n",
    "\n",
    "# Mini-projet : Stéganographie\n",
    "\n",
    "Cette activité est fortement inspirée du dossier paru sur le site [bibmath](http://www.bibmath.net/crypto/index.php?action=affiche&quoi=stegano/index).\n",
    "\n",
    "Les images utilisées sont toutes issues du site [Pixabay](https://pixabay.com/) et libres de droits.\n",
    "\n",
    "La **stéganographie**, du grec *stegano* (dissimuler), est une méthode de cryptographie qui consiste, plutôt que de crypter un message, à le cacher dans une image selon un procédé plus ou moins complexe.\n",
    "\n",
    "On s'intéresse en particulier à la dissimulation d'une image dans une autre image.\n",
    "\n",
    "Avant de commencer, il est nécessaire de prendre en main le module Python PIL (Python Imaging Library) qui permet de manipuler des images."
   ]
  },
  {
   "cell_type": "markdown",
   "metadata": {},
   "source": [
    "## 1. Le module PIL\n",
    "\n",
    "### Qu'est-ce que la librairie PIL ?\n",
    "\n",
    "PIL est l'acronyme pour Python Imaging Library. Il s'agit d'une librairie additionnelle qui fournit des fonctions de traitement d'images et de manipulations graphiques à Python. Elle supporte de nombreux formats d'images.\n",
    "\n",
    "La \"véritable\" bibliothèque PIL, c'est-à-dire la bibliothèque d'origine, n'a jamais été portée pour Python 3 ([voir le site de cette version originelle](http://pythonware.com/products/pil/)). Nous utiliserons donc une version dérivée, nommée Pillow (les informaticiens ont beaucoup d'humour...) qui est, elle, compatible avec les dernières versions de Python 3. On pourra consulter [le site de Pillow](https://python-pillow.org/). La bibliothèque Pillow est déjà installée dans la distribution EduPython et également dans ce notebook, comme aussi toutes les images dont les noms sont cités dans l'énoncé."
   ]
  },
  {
   "cell_type": "markdown",
   "metadata": {},
   "source": [
    "![](./pillow.png)"
   ]
  },
  {
   "cell_type": "markdown",
   "metadata": {},
   "source": [
    "### Commandes utiles pour une utilisation de base\n",
    "\n",
    "Avant toute chose, on importera la bibliothèque en ajoutant la ligne suivante en début de programme (exécute la cellule ci-dessous pour importer la bibliothèque PIL) :"
   ]
  },
  {
   "cell_type": "code",
   "execution_count": null,
   "metadata": {},
   "outputs": [],
   "source": [
    "from PIL import Image"
   ]
  },
  {
   "cell_type": "markdown",
   "metadata": {},
   "source": [
    "* Exemple d'ouverture d'un fichier et accès à ses informations"
   ]
  },
  {
   "cell_type": "code",
   "execution_count": null,
   "metadata": {},
   "outputs": [],
   "source": [
    "# ouverture du fichier image\n",
    "img = Image.open(\"chat.png\")\n",
    "# nom du fichier\n",
    "print(img.filename)\n",
    "# taille du fichier\n",
    "print(img.size)\n",
    "print(img.width)\n",
    "print(img.height)"
   ]
  },
  {
   "cell_type": "code",
   "execution_count": null,
   "metadata": {},
   "outputs": [],
   "source": [
    "# Affichage de l'image (valable dans un notebook, sinon taper img.show())\n",
    "img"
   ]
  },
  {
   "cell_type": "markdown",
   "metadata": {},
   "source": [
    "* Un fichier image peut avoir trois **modes** différents :\n",
    "\n",
    "    * \"l\" (lettre l minuscule) pour un fichier en noir et blanc (uniquement deux couleurs) ;\n",
    "    * \"L\" pour un fichier en niveaux de gris ;\n",
    "    * \"RGB\" pour une image en couleur.\n",
    "    \n",
    "    Une image est représentée par un tableau de pixels. Chaque pixel est repéré par ses coordonnées $(x;y)$ où $x$ est la ligne où se trouve le pixel et $y$ la colonne. Chaque pixel possède une **valeur**.\n",
    "    \n",
    "    Dans le cas d'une image en noir et blanc, la valeur d'un pixel est 0 (blanc) ou 1 (noir).\n",
    "    \n",
    "    Dans le cas d'une image en niveaux de gris, la valeur d'un pixel est un entier compris entre 0 (noir) et 255 (blanc).\n",
    "    \n",
    "    Dans le cas d'une image en couleurs RGB, la valeur d'un pixel est un **3-uplet** $(R, G, B)$ dans lequel chaque élément est un entier compris entre 0 et 255 qui représente respectivement la prorportion de rouge, de vert et de bleu dans la couleur du pixel en question.\n",
    "    \n",
    "* Accéder à la valeur d'un pixel : `img.getpixel((x, y))`. Cette fonction retourne un entier (dans le cas d'une image noir et blanc ou en niveaux de gris) ou un triplet (dans le cas d'une image en couleurs). Attention à la syntaxe : il n'y a qu'un seul argument, qui est un couple de coordonnées (donc doubles parenthèses)."
   ]
  },
  {
   "cell_type": "code",
   "execution_count": null,
   "metadata": {},
   "outputs": [],
   "source": [
    "print(img.mode)\n",
    "img.getpixel((48,75)) # attention aux parenthèses !"
   ]
  },
  {
   "cell_type": "markdown",
   "metadata": {},
   "source": [
    "* Commandes pour créer un fichier image et définir la valeur de ses pixels :"
   ]
  },
  {
   "cell_type": "code",
   "execution_count": null,
   "metadata": {
    "scrolled": true
   },
   "outputs": [],
   "source": [
    "largeur = 200\n",
    "hauteur = 100\n",
    "# Création d'une nouvelle image en niveaux de gris en mémoire\n",
    "nouvelle_image = Image.new(\"L\", (largeur, hauteur))\n",
    "# Définition de la valeur d'un pixel particulier\n",
    "nouvelle_image.putpixel((48,75), 189)\n",
    "\n",
    "# Double boucle pour parcourir tous les pixels et affecter une valeur aléatoire\n",
    "from random import randint\n",
    "\n",
    "for i in range(largeur):\n",
    "    for j in range(hauteur):\n",
    "        nouvelle_image.putpixel((i,j), randint(0,255))\n",
    "\n",
    "# Enregistrement du fichier\n",
    "nouvelle_image.save(\"mon_image.png\")\n",
    "\n",
    "# Affichage dans le notebook\n",
    "nouvelle_image"
   ]
  },
  {
   "cell_type": "markdown",
   "metadata": {},
   "source": [
    "## 2. Stéganographie dans une image en niveaux de gris\n",
    "\n",
    "## Le principe\n",
    "\n",
    "Considérons deux images en niveau de gris. Chaque pixel est donc codé par un entier compris en 0 et 255. Nous supposons de plus ces deux images de même taille.\n",
    "\n",
    "La première image `image1.pgm` est la suivante (dimensions : 640x426) :\n",
    "\n",
    "![](image1.png)\n",
    "\n",
    "La seconde image `image2.pgm` est la suivante (dimensions : 640x426) :\n",
    "\n",
    "![](image2.png)\n",
    "\n",
    "Nous utilisons des images au format PGM qui est non compressé. L'utilisation d'un format compressé du type JPG ou PNG empêcherait notre méthode de fonctionner.\n",
    "\n",
    "L'objectif est de cacher l'image 2 dans l'image 1. Comment faire ?\n",
    "\n",
    "Chaque pixel de chacune des deux images est codé par un entier compris entre 0 et 255. Écrit en base 2, cet entier s'écrit avec 8 chiffres (en ajoutant éventuellement des zéros inutiles au début du nombre). Prenons par exemple un pixel de la première image codé par le nombre binaire `1011 0101` : les quatre premiers chiffres ont plus de poids dans la valeur de ce nombre que les quatre derniers puisqu'ils sont associés à de plus grandes puissances de 2. Nous les appellerons **bits de poids lourds**. Les quatre derniers sont donc des **bits de poids faible**.\n",
    "\n",
    "Si on remplace ce nombre par un nombre dont on ne modifie que les quatre bits de poids faible (les quatre derniers), alors l'image sera assez peu modifiée. C'est cette remarque qui permet de cacher l'image 2 dans l'image 1. Il suffit de créer une nouvelle image dont chaque pixel est formé des bits de poids lourd de chacune des deux images de départ.\n",
    "\n",
    "Pour chaque pixel des deux images :\n",
    "\n",
    "| Image 1 | Image 2 | Image cryptée |\n",
    "|:----------:|:----------:|:----------:|\n",
    "| **1011** 0101 | *0110* 1100 | **1011** *0110* |\n",
    "\n",
    "Comme on n'a modifié que les bits de poids faible de l'image 1, l'image cryptée ressemblera beaucoup à l'image 1, mais un programmeur averti saura en extraire l'image 2 ...\n",
    "\n",
    "Voici, à gauche, l'image 1 et, à droite, l'image cryptée (la pauvre vache est perdue dans la ville !).\n",
    "\n",
    "| Image 1 | Image cryptée |\n",
    "| :----------: | :----------: |\n",
    "|![](./image1.png)|![](./stegano.png)|\n"
   ]
  },
  {
   "cell_type": "markdown",
   "metadata": {},
   "source": [
    "## Mini-projet\n",
    "\n",
    "Ta mission, si tu l'acceptes, consiste en deux choses :\n",
    "\n",
    "1. Programmer un algorithme permettant de créer l'image cryptée à partir des deux images de départ. Il s'agit de définir une **fonction** qui prend en **arguments** deux images de mêmes dimensions et qui **retourne** l'image cryptée.\n",
    "2. Programmer un algorithme permettant de retrouver l'image cachée dans une image cryptée. Il s'agit de définir une **fonction** qui prend en **argument** une image cryptée et qui **retourne** l'image cachée.\n",
    "\n",
    "En cas de besoin, quelques indications : \n",
    "\n",
    "* La fonction `bin()` permet de convertir un entier en sa représentation binaire sous forme de chaîne de caractères. Cependant, le résultat ne contient pas les zéros inutiles en début de chaîne !!! Par exemple `bin(45)` retourne `'0b101101'`.\n",
    "* Pour accéder aux éléments d'une chaîne de caractères, on utilise les crochets comme pour les tableaux. Un indice négatif indique que l'on part de la fin de la chaîne. Par exemple, si `mot = \"indication\"`, `mot[2:-2]` retourne `\"dicati\"`."
   ]
  },
  {
   "cell_type": "markdown",
   "metadata": {},
   "source": [
    "Une première étape dans la réalisation de ce projet consiste donc en l'écriture d'une fonction permettant d'obtenir la représentation binaire d'un entier compris entre 0 et 255 sous la forme d'une chaîne de caractères de longueur exactement 8. Tu peux compléter la fonction ci-dessous."
   ]
  },
  {
   "cell_type": "code",
   "execution_count": null,
   "metadata": {},
   "outputs": [],
   "source": [
    "def bin_8_car(x):\n",
    "    \"\"\"x est un entier compris entre 0 et 255\n",
    "    la fonction renvoie une chaîne de 8 caractères\n",
    "    représentant x en binaire\"\"\"\n",
    "    nb = bin(x)\n",
    "    nb = nb[2:] # on enlève '0b'\n",
    "    # on ajoute des zéros pour arriver à 8 caractères\n",
    "    while ... :\n",
    "        nb = ... + nb\n",
    "    return nb"
   ]
  },
  {
   "cell_type": "markdown",
   "metadata": {},
   "source": [
    "Exécute les tests ci-dessous pour vérifier la fonction."
   ]
  },
  {
   "cell_type": "code",
   "execution_count": null,
   "metadata": {},
   "outputs": [],
   "source": [
    "# tests de la fonction bin_8_car\n",
    "assert bin_8_car(54) == \"00110110\"\n",
    "assert bin_8_car(255) == \"11111111\"\n",
    "print(\"Tests réussis !\")"
   ]
  },
  {
   "cell_type": "markdown",
   "metadata": {},
   "source": [
    "Compléte ci-dessous la fonction `crypte` réalisant la première tâche demandée :"
   ]
  },
  {
   "cell_type": "code",
   "execution_count": null,
   "metadata": {},
   "outputs": [],
   "source": [
    "def crypte(img1, img2):\n",
    "    \"\"\"Cette fonction cache l'image 2 dans l'image 1\"\"\"\n",
    "    largeur, hauteur = img1.size\n",
    "    imgCrypt = Image.new(\"L\", (largeur, hauteur))\n",
    "    for i in range(...):\n",
    "        for j in range(...):\n",
    "            pixel_img1 = img1.getpixel((i,j))\n",
    "            pixel_img2 = img2.getpixel((i,j))\n",
    "            ...\n",
    "            ...\n",
    "            ...\n",
    "            imgCrypt.putpixel((i,j), ...)\n",
    "    return imgCrypt"
   ]
  },
  {
   "cell_type": "code",
   "execution_count": null,
   "metadata": {},
   "outputs": [],
   "source": [
    "# test de la fonction crypte : il est normal que cela prenne quelques secondes\n",
    "# ici, on cache l'image de la vache dans l'image de la ville\n",
    "img1 = Image.open('image1.pgm')\n",
    "img2= Image.open('image2.pgm')\n",
    "image_cryptee = crypte(img1, img2)\n",
    "image_cryptee.save(\"vache_perdue.pgm\")\n",
    "image_cryptee"
   ]
  },
  {
   "cell_type": "markdown",
   "metadata": {},
   "source": [
    "Compléte ci-dessous la fonction `decrypte` réalisant la seconde tâche demandée :"
   ]
  },
  {
   "cell_type": "code",
   "execution_count": null,
   "metadata": {},
   "outputs": [],
   "source": [
    "def decrypte(imgCrypt):\n",
    "    \"\"\"Cette fonction retourne l'image cachée dans imgCrypt\"\"\"\n",
    "    largeur, hauteur = imgCrypt.size\n",
    "    img = Image.new(\"L\", (largeur, hauteur))\n",
    "    ...\n",
    "    return img"
   ]
  },
  {
   "cell_type": "markdown",
   "metadata": {},
   "source": [
    "Pour tester cette fonction, voici une image en niveaux de gris qui contient un message secret. Le fichier est nommé `image_crypte.pgm`.\n",
    "\n",
    "![](./image_crypte.png)"
   ]
  },
  {
   "cell_type": "code",
   "execution_count": null,
   "metadata": {},
   "outputs": [],
   "source": [
    "# test de la fonction decrypte\n",
    "# ou ouvre une image qui contient une image cryptée\n",
    "imageCryptee = Image.open(\"image_crypte.pgm\")\n",
    "# on décrypte\n",
    "image = decrypte(imageCryptee)\n",
    "# on affiche l'image qui était cachée\n",
    "image"
   ]
  },
  {
   "cell_type": "markdown",
   "metadata": {},
   "source": [
    "Maintenant, tu peux t'amuser à créer d'autres images cryptées et à les décrypter pour tester tes fonctions sur plusieurs exemples."
   ]
  },
  {
   "cell_type": "markdown",
   "metadata": {},
   "source": [
    "## Défi !!!\n",
    "\n",
    "Dans une image en couleur au format `RGB`, chaque pixel est codé par trois entiers compris entre 0 et 255.\n",
    "\n",
    "On peut donc y cacher trois images en niveaux de gris différentes : une dans chaque composante de couleur.\n",
    "\n",
    "En suivant cette idée, j'ai caché trois messages dans l'image ci-dessous, nommée `defi_steg.ppm`. Sauras-tu retrouver les trois messages cachés ?\n",
    "\n",
    "![](defi_steg.png)"
   ]
  },
  {
   "cell_type": "code",
   "execution_count": null,
   "metadata": {},
   "outputs": [],
   "source": [
    "### Entre ton code ici !\n",
    "def decrypte_image_couleurs(img):\n",
    "    pass"
   ]
  }
 ],
 "metadata": {
  "kernelspec": {
   "display_name": "Python 3 (ipykernel)",
   "language": "python",
   "name": "python3"
  },
  "language_info": {
   "codemirror_mode": {
    "name": "ipython",
    "version": 3
   },
   "file_extension": ".py",
   "mimetype": "text/x-python",
   "name": "python",
   "nbconvert_exporter": "python",
   "pygments_lexer": "ipython3",
   "version": "3.10.6 (main, Nov 14 2022, 16:10:14) [GCC 11.3.0]"
  },
  "vscode": {
   "interpreter": {
    "hash": "e7370f93d1d0cde622a1f8e1c04877d8463912d04d973331ad4851f04de6915a"
   }
  }
 },
 "nbformat": 4,
 "nbformat_minor": 2
}
