{
 "cells": [
  {
   "cell_type": "markdown",
   "metadata": {},
   "source": [
    "# Programmation - Python 3\n",
    "\n",
    "## Les boucles\n",
    "\n",
    "<span style='font-size:22px; '>&#128203;</span>\n",
    "Retenez ceci :\n",
    "\n",
    "Une boucle permet de **répéter** un certain nombre de fois une ou plusieurs instructions.\n",
    "\n",
    "Il y deux types de boucles:\n",
    "* les boucles bornées\n",
    "* les boucles conditionnelles\n",
    "\n",
    "Dans **une boucle bornée**, on connaît à l'avance le nombre de répétitions à faire.<br>\n",
    "On les écrits en langage courant de la manière suivante:\n",
    "\n",
    "**Pour** i allant de $0$ à $n$ par pas de $1$ **faire** ceci ou cela.<br>\n",
    "Cette boucle se répète $n+1$ fois, car de 0 à $n$,  il y a $n+1$ entiers (le pas ici est de $1$).\n",
    "\n",
    "Dans **une boucle conditionnelles**, on ne connaît pas à l'avance le nombre de répétitions à faire.<br>\n",
    "Celles-ci dépendent d'une condition.<br>\n",
    "En langage courant cela s'écrit:\n",
    "\n",
    "**Tant que** une ou plusieurs conditions sont vraies(ou fausses) **faire** ceci ou cela.<br>\n",
    "Le nombre de répétitions dépend de conditions.\n"
   ]
  },
  {
   "cell_type": "markdown",
   "metadata": {},
   "source": [
    "## Les boucles bornées en Python\n",
    "\n",
    "**La syntaxe :**\n",
    "\n",
    "```py\n",
    "for i in range(debut,fin,pas):\n",
    "    instructions\n",
    "```\n",
    "Cette boucle fait varier i entre debut et fin sans atteindre fin...<br>\n",
    "1er tour : i = debut<br>\n",
    "2ème tour : i = debut + pas<br>\n",
    "3ème tour : i = debut + pas + pas<br>\n",
    "etc..<br>\n",
    "**Si l'ajout d'un pas est supérieur ou égal à fin, la boucle se termine.**\n",
    "\n",
    "\n",
    "***Exemples***\n",
    "```py\n",
    "for i in range(0,10,1):\n",
    "    instructions\n",
    "```\n",
    "i vaudra 0,1,2,3,4,5,6,7,8 et 9 (en tout 10 répétitions)\n",
    "\n",
    "```py\n",
    "for i in range(0,10,2):\n",
    "    instructions\n",
    "```\n",
    "i vaudra 0,2,4,6 et 8 (en tout 5 répétitions)\n",
    "\n",
    "```py\n",
    "for i in range(-5,10,3):\n",
    "    instructions\n",
    "```\n",
    "i vaudra -5,-2,1,4 et 7 (en tout 5 répétitions)\n",
    "\n",
    "```py\n",
    "for i in range(10,-1,-2):\n",
    "    instructions\n",
    "```\n",
    "i vaudra 10,8,6,4,2 et 0 (en tout 6 répétitions)\n",
    "\n",
    "Quand on souhaite faire n répétitions, il suffit d'écrire:\n",
    "```py\n",
    "for i in range(n):\n",
    "    instructions\n",
    "```\n",
    "En Python range(n) équivaut à range(0,n,1).\n",
    "\n",
    "Dans l'exemple ci-dessous, on fait afficher une table de multiplication:"
   ]
  },
  {
   "cell_type": "code",
   "execution_count": 3,
   "metadata": {},
   "outputs": [
    {
     "name": "stdout",
     "output_type": "stream",
     "text": [
      "0  x 7 =  0\n",
      "1  x 7 =  7\n",
      "2  x 7 =  14\n",
      "3  x 7 =  21\n",
      "4  x 7 =  28\n",
      "5  x 7 =  35\n",
      "6  x 7 =  42\n",
      "7  x 7 =  49\n",
      "8  x 7 =  56\n",
      "9  x 7 =  63\n",
      "10  x 7 =  70\n",
      "11  x 7 =  77\n"
     ]
    }
   ],
   "source": [
    "for i in range(12):\n",
    "    print(i,\" x 7 = \",7*i)"
   ]
  },
  {
   "cell_type": "markdown",
   "metadata": {},
   "source": [
    "### Exercice 1\n",
    "\n",
    "\n",
    "Faire afficher une autre table de multiplication"
   ]
  },
  {
   "cell_type": "code",
   "execution_count": null,
   "metadata": {},
   "outputs": [],
   "source": [
    "# code ici"
   ]
  },
  {
   "cell_type": "markdown",
   "metadata": {},
   "source": [
    "### Exercice 2\n",
    "\n",
    "Faire afficher avec une boucle les 25 premiers nombres impairs<br>\n",
    "\n",
    "Résultat attendu:\n",
    "1 3 5 7 9 11 13 15 17 19 21 23 25 27 29 31 33 35 37 39 41 43 45 47 49 "
   ]
  },
  {
   "cell_type": "code",
   "execution_count": 4,
   "metadata": {},
   "outputs": [],
   "source": [
    "# code ici\n",
    "    "
   ]
  },
  {
   "cell_type": "markdown",
   "metadata": {},
   "source": [
    "### Exercice 3\n",
    "\n",
    "Dans le code ci-dessous on utilise une boucle pour faire afficher le résultat de $a\\times b$ où $a$ et $b$ sont des entiers naturels<br>\n",
    "$a\\times b$ signifie $\\underbrace{a+a+...+a}_{\\text{b fois}}$"
   ]
  },
  {
   "cell_type": "code",
   "execution_count": 7,
   "metadata": {},
   "outputs": [
    {
     "name": "stdout",
     "output_type": "stream",
     "text": [
      "2460\n",
      "2460\n"
     ]
    }
   ],
   "source": [
    "a =  123\n",
    "b = 20\n",
    "produit = 0\n",
    "for i in range(b):\n",
    "    produit = produit + a\n",
    "print(produit)\n",
    "print(123*20)# pour vérifier"
   ]
  },
  {
   "cell_type": "markdown",
   "metadata": {},
   "source": [
    "Modifier le programme précédent pour qu'il calcule le produit de deux entiers relatifs.<br>\n",
    "C'est à dire, qu'il tienne compte des signes éventuels des entiers $a$ et $b$.\n",
    "* $123 \\times (-20) = -2460$\n",
    "* $-123 \\times (-20) = 2460$\n",
    "* $-123 \\times 20 = -2460$\n",
    "* $123 \\times 20 = 2460$"
   ]
  },
  {
   "cell_type": "code",
   "execution_count": null,
   "metadata": {},
   "outputs": [],
   "source": [
    "# code ici"
   ]
  },
  {
   "cell_type": "markdown",
   "metadata": {},
   "source": [
    "### Exercice 4\n",
    "\n",
    "Dans le programme ci-dessous, on utilise une boucle pour faire afficher dans une fenêtre des lignes verticales\n",
    "\n",
    "Orientation de la fenêtre\n",
    "<pre>\n",
    "(o,o)------------>(300,0) abscisses\n",
    "  |\n",
    "  |\n",
    "  |\n",
    "  |\n",
    "  |\n",
    "  |\n",
    "  |\n",
    "  v ------------->(300,300)\n",
    "(0,300)\n",
    "(ordonnées)\n",
    "</pre>"
   ]
  },
  {
   "cell_type": "code",
   "execution_count": 15,
   "metadata": {},
   "outputs": [
    {
     "data": {
      "application/javascript": "element.append(window.domNodeBus.pop(0));"
     },
     "metadata": {},
     "output_type": "display_data"
    }
   ],
   "source": [
    "from p5 import*\n",
    "\n",
    "def setup():\n",
    "    createCanvas(300,300)\n",
    "    background(255,160,122)# couleur du fond de la fenêtre\n",
    "    strokeWeight(2) # épaisseur des traits\n",
    "    for i in range(0,301,20):\n",
    "        line(i,0,i,300) # dessine une ligne entre les points de coordonnées (i,0) et (i,300)\n",
    "\n",
    "        \n",
    "def draw():\n",
    "    pass\n",
    "\n",
    "run()\n"
   ]
  },
  {
   "cell_type": "markdown",
   "metadata": {},
   "source": [
    "Réaliser les figures suivantes :\n",
    "\n",
    "<img src = \"https://isn-icn-ljm.pagesperso-orange.fr//images/boucles_exos.png\" >\n",
    "\n",
    "Pour des cercles l'instruction est :<br>\n",
    "circle(abscisse_du_centre,ordonnée_du_centre,diamètre)"
   ]
  },
  {
   "cell_type": "code",
   "execution_count": null,
   "metadata": {},
   "outputs": [],
   "source": [
    "# figure 2\n",
    "from p5 import*\n",
    "\n",
    "def setup():\n",
    "    createCanvas(300,300)\n",
    "    background(255,160,122)\n",
    "    # à compléter\n",
    "        \n",
    "def draw():\n",
    "    pass\n",
    "\n",
    "run()"
   ]
  },
  {
   "cell_type": "code",
   "execution_count": null,
   "metadata": {},
   "outputs": [],
   "source": [
    "# figure 3\n",
    "from p5 import*\n",
    "\n",
    "def setup():\n",
    "    createCanvas(300,300)\n",
    "    background(255,160,122)\n",
    "    # à compléter\n",
    "        \n",
    "def draw():\n",
    "    pass\n",
    "\n",
    "run()"
   ]
  },
  {
   "cell_type": "code",
   "execution_count": null,
   "metadata": {},
   "outputs": [],
   "source": [
    "# figure 4\n",
    "from p5 import*\n",
    "\n",
    "def setup():\n",
    "    createCanvas(300,300)\n",
    "    background(255,160,122)\n",
    "    # à compléter\n",
    "        \n",
    "def draw():\n",
    "    pass\n",
    "\n",
    "run()"
   ]
  },
  {
   "cell_type": "code",
   "execution_count": null,
   "metadata": {},
   "outputs": [],
   "source": [
    "# figure 5\n",
    "from p5 import*\n",
    "\n",
    "def setup():\n",
    "    createCanvas(300,300)\n",
    "    background(255,160,122)\n",
    "    # à compléter\n",
    "        \n",
    "def draw():\n",
    "    pass\n",
    "\n",
    "run()"
   ]
  },
  {
   "cell_type": "code",
   "execution_count": null,
   "metadata": {},
   "outputs": [],
   "source": [
    "# figure 6\n",
    "from p5 import*\n",
    "\n",
    "def setup():\n",
    "    createCanvas(300,300)\n",
    "    background(255,160,122)\n",
    "    # à compléter\n",
    "        \n",
    "def draw():\n",
    "    pass\n",
    "\n",
    "run()"
   ]
  },
  {
   "cell_type": "code",
   "execution_count": null,
   "metadata": {},
   "outputs": [],
   "source": [
    "# figure 7\n",
    "from p5 import*\n",
    "\n",
    "def setup():\n",
    "    createCanvas(300,300)\n",
    "    background(255,160,122)\n",
    "    # à compléter\n",
    "        \n",
    "def draw():\n",
    "    pass\n",
    "\n",
    "run()"
   ]
  },
  {
   "cell_type": "markdown",
   "metadata": {},
   "source": [
    "### Exercice 5\n",
    "\n",
    "Le programme ci-dessous affiche un rectangle de dimensions et de couleur aléatoires dans une fenêtre.<br>\n",
    "La couleur est donnée avec une transparence de 60.\n",
    "\n",
    "Faites en sorte d'en afficher 500"
   ]
  },
  {
   "cell_type": "code",
   "execution_count": null,
   "metadata": {},
   "outputs": [],
   "source": [
    "from p5 import*\n",
    "\n",
    "def setup():\n",
    "    createCanvas(300,300)\n",
    "    noStroke()\n",
    "    fill(random(255),random(255),random(255),60)\n",
    "    rect(random(300),random(300),random(100),random(100))\n",
    "\n",
    "def draw():\n",
    "    pass\n",
    "\n",
    "run()"
   ]
  },
  {
   "cell_type": "code",
   "execution_count": null,
   "metadata": {},
   "outputs": [],
   "source": []
  },
  {
   "cell_type": "markdown",
   "metadata": {},
   "source": [
    "## Les boucles conditionnelles en Python\n",
    "\n",
    "**Syntaxe**\n",
    "```py\n",
    "\n",
    "while condition:\n",
    "    instructions\n",
    "```\n",
    "\n",
    "Il faut bien sûr veiller à ce que la boucle s'arrête...<br>\n",
    "C'est à dire que la condition doit à un certain moment être contredite...\n",
    "\n",
    "**Exemples**<br>\n",
    "Ce programme ne s'arrêtera jamais , car jamais i ne sera supérieur ou égal à 10.\n",
    "```py\n",
    "i = 0\n",
    "while i < 10:\n",
    "    print(i)\n",
    "```\n",
    "Celui là s'arrêtera quand i sera égal à 10\n",
    "\n",
    "```py\n",
    "i = 0\n",
    "while i < 10:\n",
    "    print(i)\n",
    "    i = \n",
    "    i + 1\n",
    "```\n",
    "\n",
    "Le programme ci-dessous calcule la somme des 10 premiers entiers<br>\n",
    "$0+1 +2+3+4+5+6+7+8+9=45$"
   ]
  },
  {
   "cell_type": "code",
   "execution_count": 81,
   "metadata": {},
   "outputs": [
    {
     "name": "stdout",
     "output_type": "stream",
     "text": [
      "45\n"
     ]
    }
   ],
   "source": [
    "i=0\n",
    "somme=0\n",
    "while i<10:\n",
    "    somme = somme + i\n",
    "    i = i + 1\n",
    "print(somme)"
   ]
  },
  {
   "cell_type": "markdown",
   "metadata": {},
   "source": [
    "### Exercice 6\n",
    "\n",
    "Écrire un programme avec une boucle while, qui calcule la somme des 101 premiers entiers naturels.<br>\n",
    "$0 + 1 +2+...+100$<br>\n",
    "Résultat attendu : 5050\n",
    "\n"
   ]
  },
  {
   "cell_type": "code",
   "execution_count": null,
   "metadata": {},
   "outputs": [],
   "source": [
    "# code ici\n"
   ]
  },
  {
   "cell_type": "markdown",
   "metadata": {},
   "source": [
    "### Exercice 7\n",
    "\n",
    "Écrire un programme avec une boucle while, qui calcule le produit des 10 premiers entiers naturels non nuls.<br>\n",
    "$ 1 \\times 2\\times 3...\\times 10$<br>\n",
    "Résultat attendu : 3628800"
   ]
  },
  {
   "cell_type": "code",
   "execution_count": null,
   "metadata": {},
   "outputs": [],
   "source": [
    "# code ici"
   ]
  },
  {
   "cell_type": "markdown",
   "metadata": {},
   "source": [
    "### Exercice 8\n",
    "\n",
    "Écrire un programme avec une boucle while, qui calcule la somme des entiers naturels pairs jusqu'à 100.<br>\n",
    "$2+4+6+...+98+100$<br>\n",
    "Résultat attendu : 2550"
   ]
  },
  {
   "cell_type": "code",
   "execution_count": null,
   "metadata": {},
   "outputs": [],
   "source": [
    "# code ici"
   ]
  },
  {
   "cell_type": "markdown",
   "metadata": {},
   "source": [
    "### Exercice 9\n",
    "\n",
    "Écrire un programme avec une boucle while, qui calcule la somme des entiers naturels impairs jusqu'à 100.<br>\n",
    "$1+3+5+...+99$<br>\n",
    "Résultat attendu : 2500"
   ]
  },
  {
   "cell_type": "code",
   "execution_count": null,
   "metadata": {},
   "outputs": [],
   "source": [
    "# code ici"
   ]
  }
 ],
 "metadata": {
  "kernelspec": {
   "display_name": "Python 3.10.6 64-bit",
   "language": "python",
   "name": "python3"
  },
  "language_info": {
   "codemirror_mode": {
    "name": "ipython",
    "version": 3
   },
   "file_extension": ".py",
   "mimetype": "text/x-python",
   "name": "python",
   "nbconvert_exporter": "python",
   "pygments_lexer": "ipython3",
   "version": "3.10.6"
  },
  "vscode": {
   "interpreter": {
    "hash": "e7370f93d1d0cde622a1f8e1c04877d8463912d04d973331ad4851f04de6915a"
   }
  }
 },
 "nbformat": 4,
 "nbformat_minor": 2
}
