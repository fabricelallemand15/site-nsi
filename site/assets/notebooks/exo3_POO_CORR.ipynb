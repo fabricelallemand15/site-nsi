{
 "cells": [
  {
   "cell_type": "markdown",
   "metadata": {},
   "source": [
    "# Exercice 3 type bac (bac 2022, POO : Bataille) - Corrigé\n",
    "\n",
    "*Les réponses sont en <span style=\"color:limegreen\">vert</span> en dessous de caque question. Les zones de codes sont exécutables directement dans le document et doivent être exécutées dans l'ordre.*"
   ]
  },
  {
   "cell_type": "markdown",
   "metadata": {},
   "source": [
    "Simon souhaite créer en Python le jeu de cartes « la bataille » pour deux joueurs. Les questions qui suivent demandent de reprogrammer quelques fonctions du jeu. On rappelle ici les règles du jeu de la bataille : \n",
    "\n",
    "_Préparation_ :\n",
    "\n",
    "* Distribuer toutes les cartes aux deux joueurs.\n",
    "* Les joueurs ne prennent pas connaissance de leurs cartes et les laissent en tas face cachée devant eux.\n",
    "\n",
    "_Déroulement_ :\n",
    "\n",
    "* À chaque tour, chaque joueur dévoile la carte du haut de son tas.\n",
    "* Le joueur qui présente la carte ayant la plus haute valeur emporte les deux cartes qu'il place sous son tas.\n",
    "* Les valeurs des cartes sont : dans l'ordre de la plus forte à la plus faible : As, Roi, Dame, Valet, 10, 9, 8, 7, 6, 5, 4, 3 et 2 (la plus faible).\n",
    "\n",
    "_Si deux cartes sont de même valeur, il y a \"bataille\"._\n",
    "\n",
    "* Chaque joueur pose alors une carte face cachée, suivie d'une carte face visible sur la carte dévoilée précédemment.\n",
    "* On recommence l'opération s'il y a de nouveau une bataille sinon, le joueur ayant la valeur la plus forte emporte tout le tas.\n",
    "\n",
    "Lorsque l'un des joueurs possède toutes les cartes du jeu, la partie s'arrête et ce dernier gagne. \n",
    "\n",
    "Pour cela Simon crée une classe Python ``Carte``. Chaque instance de la classe a deux attributs : un pour sa valeur et un pour sa couleur. Il donne au valet la valeur 11, à la dame la valeur 12, au roi la valeur 13 et à l'as la valeur 14. La couleur est une chaîne de caractères: \"trefle\", \"carreau\", \"coeur\" ou \"pique\". \n",
    "\n",
    "Simon a écrit la classe Python ``Carte`` suivante, ayant deux attributs ``valeur`` et ``couleur``, et dont le constructeur prend deux arguments: ``val`` et ``coul``."
   ]
  },
  {
   "cell_type": "markdown",
   "metadata": {},
   "source": [
    "1. Recopier et compléter les pointillés des lignes ci-dessous.\n",
    "\n",
    "    ````py\n",
    "    class Carte:\n",
    "        def __init__(self, val, coul):\n",
    "            ... .valeur = ...\n",
    "            ... . ... = coul\n",
    "    ````"
   ]
  },
  {
   "cell_type": "code",
   "execution_count": 2,
   "metadata": {},
   "outputs": [],
   "source": [
    "class Carte:\n",
    "    def __init__(self, val, coul):\n",
    "        self.valeur = val\n",
    "        self.couleur = coul"
   ]
  },
  {
   "cell_type": "markdown",
   "metadata": {},
   "source": [
    "2. Parmi les propositions ci-dessous quelle instruction permet de créer l'objet « 7 de cœur » sous le nom c7 ?\n",
    "\n",
    "    * ``c7. init (self, 7, \"coeur\")``\n",
    "    * ``c7 = Carte(self, 7, \"coeur\")``\n",
    "    * ``c7 = Carte ( 7, \"coeur\")``\n",
    "    * ``from Carte import 7, \"coeur\"``\n",
    "\n",
    "    <p style=\"color:limegreen\">C'est la troisième proposition qui est la bonne. Les autres n'ont pas de sens. Pour créer une instance de l'objet `Carte`, il faut appeler la méthode constructeur `Carte()` en précisant les deux arguments `val` et `coul`.</p>"
   ]
  },
  {
   "cell_type": "markdown",
   "metadata": {},
   "source": [
    "3. On souhaite créer le jeu de cartes. Pour cela, on écrit une fonction ``initialiser()`` :\n",
    "    \n",
    "    * sans paramètre\n",
    "    * qui renvoie une liste de 52 objets de la classe ``Carte`` représentant les 52 cartes du jeu.\n",
    "\n",
    "    Voici une proposition de code. Recopier et compléter les lignes suivantes pour que la fonction réponde à la demande :\n",
    "\n",
    "    ````py\n",
    "    def initialiser() :\n",
    "        jeu = [] \n",
    "        for c in [\"coeur\", \"carreau\", \"trefle\", \"pique\"]:\n",
    "            for v in range( ... ) :\n",
    "                carte_cree = ...\n",
    "                jeu.append(carte_cree)\n",
    "        return jeu\n",
    "    ````"
   ]
  },
  {
   "cell_type": "code",
   "execution_count": 3,
   "metadata": {},
   "outputs": [],
   "source": [
    "def initialiser() :\n",
    "        jeu = [] \n",
    "        for c in [\"coeur\", \"carreau\", \"trefle\", \"pique\"]:\n",
    "            for v in range(2,15) :\n",
    "                carte_cree = Carte(v, c)\n",
    "                jeu.append(carte_cree)\n",
    "        return jeu"
   ]
  },
  {
   "cell_type": "markdown",
   "metadata": {},
   "source": [
    "4. Écrire une fonction ``comparer(cartel, carte2)`` qui prend en paramètres deux objets de la classe ``Carte``. Cette fonction renvoie :\n",
    "\n",
    "    * 0 si la force des deux cartes est identique,\n",
    "    * 1 si la carte cartel est strictement plus forte que carte2\n",
    "    * -1 si la carte carte2 est strictement plus forte que cartel"
   ]
  },
  {
   "cell_type": "code",
   "execution_count": 7,
   "metadata": {},
   "outputs": [
    {
     "name": "stdout",
     "output_type": "stream",
     "text": [
      "-1 1 0\n"
     ]
    }
   ],
   "source": [
    "def comparer(carte1, carte2):\n",
    "    v1 = carte1.valeur\n",
    "    v2 = carte2.valeur\n",
    "    if v1 == v2:\n",
    "        return 0\n",
    "    elif v1 > v2:\n",
    "        return 1\n",
    "    else:\n",
    "        return -1\n",
    "\n",
    "# test de la fonction sur trois exemples\n",
    "c1 = Carte(5, \"Pique\")\n",
    "c2 = Carte(14, \"Coeur\")\n",
    "c3 = Carte(5, \"Trèfle\")\n",
    "print(comparer(c1, c2), comparer(c2, c1), comparer(c1, c3))"
   ]
  }
 ],
 "metadata": {
  "kernelspec": {
   "display_name": "Python 3.10.4 64-bit",
   "language": "python",
   "name": "python3"
  },
  "language_info": {
   "codemirror_mode": {
    "name": "ipython",
    "version": 3
   },
   "file_extension": ".py",
   "mimetype": "text/x-python",
   "name": "python",
   "nbconvert_exporter": "python",
   "pygments_lexer": "ipython3",
   "version": "3.10.4"
  },
  "orig_nbformat": 4,
  "vscode": {
   "interpreter": {
    "hash": "916dbcbb3f70747c44a77c7bcd40155683ae19c65e1c03b4aa3499c5328201f1"
   }
  }
 },
 "nbformat": 4,
 "nbformat_minor": 2
}
