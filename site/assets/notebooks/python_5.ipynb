{
 "cells": [
  {
   "cell_type": "markdown",
   "metadata": {},
   "source": [
    "# Programmation - Python- 5\n",
    "\n",
    "## Les chaînes de caractères\n",
    "\n",
    "Une chaîne de caractères peut être:\n",
    "* une lettre, un caractère\n",
    "* un mot\n",
    "* une phrase\n",
    "* un texte\n",
    "\n",
    "Pour créer une chaîne de caractères en python:\n",
    "```py\n",
    "ma_chaine = \"\" # une chaîne vide\n",
    "ma_chaîne = \"d\" # un caractère\n",
    "ma_chaine = \"ours\" # un mot\n",
    "ma_chaine = \"Ceci est une phrase\"\n",
    "un_texte = \"Alors, je récapitule : il vous faut du courage, du temps, de la liberté, de la force, de l’énergie,de l’intelligence (beaucoup si possible), de l’humour, de l’originalité, de l’espoir… désolé nous n’avons plus d’espoir. Je vous mets un peu de tendresse à la place. Et puis, il vous faut aussi de l’amour.Vous avez besoin de beaucoup d’amour ? Je vous en mets combien ?\"\n",
    "```\n",
    "**Propriétés :**\n",
    "* Une fois créée, une chaîne de caractères ne peut être modifiée, elles sont **non mutables**.\n",
    "* La longueur d'une chaîne de caractère est le nombre de caractères qu'elle contient.<br>\n",
    "L'instruction pour avoir accès à la longueur d'une chaîne est :  **len(ma_chaine)**\n",
    "\n",
    "```py\n",
    "ma_chaine = \"Hello world\"\n",
    "print(len(ma_chaine)) # affiche 11\n",
    "\n",
    "```\n",
    "\n",
    "* Chaque caractère d'une chaine peut être atteint par son indice dans la chaine.\n",
    "```py\n",
    "ma_chaine = \"Hello world\"\n",
    "print(machaine[0]) # affiche le H\n",
    "print(machaine[4]) # affiche le o\n",
    "print(machaine[5]) # affiche le caractère espace\n",
    "print(machaine[10]) # affiche le d\n",
    "```\n",
    "\n",
    "* Les chaînes de caractères sont **itérables**.\n",
    "\n",
    "***Avec une boucle sur les indices :***\n",
    "```py\n",
    "ma_chaine = \"Hello world\"\n",
    "\n",
    "for i in range(len(ma_chaine)):\n",
    "    print(ma_chaine[i])  # affiche chaque lettre\n",
    "```\n",
    "***Avec une boucle sur les caractères :***\n",
    "    \n",
    "```py\n",
    "ma_chaine = \"Hello world\"\n",
    "\n",
    "for lettre in ma_chaine:\n",
    "    print(lettre)  # affiche chaque lettre\n",
    "```\n",
    "\n",
    "* Pour mettre en majuscule un caractère ou tout une chaîne on utilise la méthode .upper()\n",
    "```py\n",
    "ma_chaine = \"Hello world\"\n",
    "MA_CHAINE = ma_chaine.upper()\n",
    "print(MA_CHAINE) # affiche HELLO WORLD\n",
    "```\n",
    "\n",
    "* L'addition de deux chaînes de caractères s'appelle la **concaténation**:\n",
    "\n",
    "```py\n",
    "ma_chaine1 = \"Hello\"\n",
    "ma_chaine2 = \" \"\n",
    "ma_chaine3 = \"world\"\n",
    "print(ma_chaine1 + ma_chaine2 + ma_chaine3) # affiche Hello world\n",
    "\n",
    "```\n",
    "* Tester la présence d'un caractère dans une chaîne de caractère.\n",
    "\n",
    "```py\n",
    "ma_chaine = \"Hello world\"\n",
    "print(\"e\" in ma_chaine) # affiche True\n",
    "print(\"a\" in ma_chaine) # affiche False\n",
    "print(\"a\" not in ma_chaine) # affiche True\n",
    "print(\"e\" not in ma_chaine) # affiche False\n",
    "```"
   ]
  },
  {
   "cell_type": "markdown",
   "metadata": {},
   "source": [
    "## Exercices "
   ]
  },
  {
   "cell_type": "markdown",
   "metadata": {},
   "source": [
    "### Ex 1\n",
    "\n",
    "Voici un code qui vérifie si une lettre est une voyelle:<br>\n",
    "```py\n",
    "voyelles = \"aàâeéèêëuùûiïîoôyAEIOUY\"\n",
    "lettre =\"a\"\n",
    "print(lettre in voyelles) # affiche True \n",
    "```\n",
    "Écrire une fonction compte_voyelles qui prend en paramètre un texte et qui renvoie le nombre de voyelles du texte<br>\n",
    "***Réponse attendue : 129***\n"
   ]
  },
  {
   "cell_type": "code",
   "execution_count": null,
   "metadata": {},
   "outputs": [],
   "source": [
    "texte = \"Alors, je récapitule : il vous faut du courage, du temps, de la liberté, de la force, de l’énergie,de l’intelligence (beaucoup si possible), de l’humour, de l’originalité, de l’espoir… désolé nous n’avons plus d’espoir. Je vous mets un peu de tendresse à la place. Et puis, il vous faut aussi de l’amour.Vous avez besoin de beaucoup d’amour ? Je vous en mets combien ?\"\n",
    "\n",
    "def compte_voyelles(texte):\n",
    "    voyelles = \"aàâeéèêëuùûiïîoôyAEIOUY\"\n",
    "    # à compléter\n",
    "    \n"
   ]
  },
  {
   "cell_type": "markdown",
   "metadata": {},
   "source": [
    "### Ex 2\n",
    "\n",
    "Écrire une fonction compte_e qui prend en paramètre un texte et qui renvoie le nombre de e,é,è,ë,ê qu'il contient<br>\n",
    "***Réponse attendue : 45***\n"
   ]
  },
  {
   "cell_type": "code",
   "execution_count": null,
   "metadata": {},
   "outputs": [],
   "source": [
    "texte = \"Alors, je récapitule : il vous faut du courage, du temps, de la liberté, de la force, de l’énergie,de l’intelligence (beaucoup si possible), de l’humour, de l’originalité, de l’espoir… désolé nous n’avons plus d’espoir. Je vous mets un peu de tendresse à la place. Et puis, il vous faut aussi de l’amour.Vous avez besoin de beaucoup d’amour ? Je vous en mets combien ?\"\n",
    "\n",
    "def compte_e(texte):\n",
    "    # à compléter"
   ]
  },
  {
   "cell_type": "markdown",
   "metadata": {},
   "source": [
    "### Ex 3\n",
    "\n",
    "Écrire une fonction proportion_e qui prend en paramètre un texte et qui renvoie le pourcentage de e,é,è,ë,ê qu'il contient<br>\n",
    "***Réponse attendue : 0.12228260869565218  soit 12,22%***\n",
    "\n",
    "Pour info : la fréquence moyenne d'apparition du \"e\" dans un texte en français est de 12,10%"
   ]
  },
  {
   "cell_type": "code",
   "execution_count": null,
   "metadata": {},
   "outputs": [],
   "source": [
    "texte = \"Alors, je récapitule : il vous faut du courage, du temps, de la liberté, de la force, de l’énergie,de l’intelligence (beaucoup si possible), de l’humour, de l’originalité, de l’espoir… désolé nous n’avons plus d’espoir. Je vous mets un peu de tendresse à la place. Et puis, il vous faut aussi de l’amour.Vous avez besoin de beaucoup d’amour ? Je vous en mets combien ?\"\n",
    "\n",
    "def proportion_e_e(texte):\n",
    "    # à compléter\n"
   ]
  },
  {
   "cell_type": "markdown",
   "metadata": {},
   "source": [
    "### Ex 4\n",
    "\n",
    "Reprendre l'exercice 3 pour la lettre \"a\""
   ]
  },
  {
   "cell_type": "code",
   "execution_count": null,
   "metadata": {},
   "outputs": [],
   "source": [
    "# code ici"
   ]
  },
  {
   "cell_type": "markdown",
   "metadata": {
    "slideshow": {
     "slide_type": ""
    }
   },
   "source": [
    "## Le code ASCII\n",
    "\n",
    "Chaque caractère possède un code ASCII, un nombre qui permet de l'identifier:\n",
    "\n",
    "***Par exemple :*** Le caractère \"A\" est codé par le nombre 65 \n",
    "\n",
    "La fonction **ord(caractere)** permet d'afficher le nombre correspondant à un caractere\n",
    "\n",
    "Le code suivant permet d'afficher le code ASCII des lettres de l'alphabet:\n",
    "\n",
    "```py\n",
    "for lettre in \"ABCDEFGHIJKLMNOPQRSTWXYZ\":\n",
    "    print(ord(lettre),end=\"-\")\n",
    "```\n",
    "\n",
    "***Faire fonctionner ce code puis faire afficher le code ASCII des lettres de l'alphabet en minuscule***"
   ]
  },
  {
   "cell_type": "code",
   "execution_count": null,
   "metadata": {},
   "outputs": [],
   "source": [
    "# code ici\n"
   ]
  },
  {
   "cell_type": "markdown",
   "metadata": {},
   "source": [
    "1 est un chiffre et \"1\" est un caractère\n",
    "\n",
    "***Faire afficher les code ASCII des caractères 0,1,2,3,4,5,6,7,8,9***"
   ]
  },
  {
   "cell_type": "code",
   "execution_count": null,
   "metadata": {},
   "outputs": [],
   "source": [
    "# code ici\n"
   ]
  },
  {
   "cell_type": "markdown",
   "metadata": {},
   "source": [
    "**Dans l'autre sens..**\n",
    "\n",
    "La fonction **chr(nombre)** permet d'afficher le caractère correspondant à un nombre\n",
    "\n",
    "***Par exemple :*** Le code suivant affiche les lettre en majuscule de l'alphabet:\n",
    "\n",
    "```py\n",
    "for i in range(65,91,1):\n",
    "    print(chr(i),end=\" \")\n",
    "```\n",
    "\n",
    "***Faire fonctionner ce code puis faire afficher les lettres en minuscule à partir de leurs codes ASCII***"
   ]
  },
  {
   "cell_type": "code",
   "execution_count": null,
   "metadata": {},
   "outputs": [],
   "source": [
    "# code ici"
   ]
  },
  {
   "cell_type": "markdown",
   "metadata": {},
   "source": [
    "***Faire afficher les caractères dont le code est un nombre compris entre 500 et 600***"
   ]
  },
  {
   "cell_type": "code",
   "execution_count": null,
   "metadata": {},
   "outputs": [],
   "source": [
    "# code ici"
   ]
  }
 ],
 "metadata": {
  "kernelspec": {
   "display_name": "Python 3 (ipykernel)",
   "language": "python",
   "name": "python3"
  },
  "language_info": {
   "codemirror_mode": {
    "name": "ipython",
    "version": 3
   },
   "file_extension": ".py",
   "mimetype": "text/x-python",
   "name": "python",
   "nbconvert_exporter": "python",
   "pygments_lexer": "ipython3",
   "version": "3.10.6"
  }
 },
 "nbformat": 4,
 "nbformat_minor": 2
}
