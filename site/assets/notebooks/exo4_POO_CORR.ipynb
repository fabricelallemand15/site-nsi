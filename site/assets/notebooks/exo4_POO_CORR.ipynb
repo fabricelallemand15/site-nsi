{
 "cells": [
  {
   "cell_type": "markdown",
   "metadata": {},
   "source": [
    "# Exercice 4 type bac (bac 2022, POO : Brioches) - Corrigé\n",
    "\n",
    "*Les réponses sont en <span style=\"color:limegreen\">vert</span> en dessous de caque question. Les zones de codes sont exécutables directement dans le document et doivent être exécutées dans l'ordre.*"
   ]
  },
  {
   "cell_type": "markdown",
   "metadata": {},
   "source": [
    "Un fabricant de brioches décide d’informatiser sa gestion des stocks. Il écrit pour cela un programme en langage Python. Une partie de son travail consiste à développer une classe Stock dont la première version est la suivante :\n",
    "\n",
    "````py\n",
    "class Stock:\n",
    "    def __init__(self):\n",
    "        self.qt_farine = 0 # quantité de farine initialisée à 0 g\n",
    "        self.nb_oeufs = 0 # nombre d’œufs (0 à l’initialisation)\n",
    "        self.qt_beurre = 0 # quantité de beurre initialisée à 0 g\n",
    "````\n",
    "\n",
    "1. Écrire une méthode ``ajouter_beurre(self, qt)`` qui ajoute la quantité ``qt`` de beurre à un objet de la classe ``Stock``.\n",
    "    \n",
    "    On admet que l’on a écrit deux autres méthodes ``ajouter_farine`` et ``ajouter_oeufs`` qui ont des fonctionnements analogues.\n",
    "\n",
    "    <p style=\"color:limegreen\">Voir le code dans la définition de la classe ci-dessous.</p>"
   ]
  },
  {
   "cell_type": "markdown",
   "metadata": {},
   "source": [
    "2. Écrire une méthode ``afficher(self)`` qui affiche la quantité de farine, d’œufs et de beurre d’un objet de type ``Stock``. L’exemple ci-dessous illustre l’exécution de cette méthode dans la console :\n",
    "\n",
    "    ````pycon\n",
    "    >>> mon_stock = Stock() \n",
    "    >>> mon_stock.afficher() \n",
    "    farine: 0 \n",
    "    oeuf: 0 \n",
    "    beurre: 0 \n",
    "    >>> mon_stock.ajouter_beurre(560) \n",
    "    >>> mon_stock.afficher() \n",
    "    farine: 0 \n",
    "    oeuf: 0 \n",
    "    beurre: 560 \n",
    "    ````\n",
    "\n",
    "    <p style=\"color:limegreen\">Voir le code dans la définition de la classe ci-dessous.</p>"
   ]
  },
  {
   "cell_type": "markdown",
   "metadata": {},
   "source": [
    "3.\tPour faire une brioche, il faut 350 g de farine, 175 g de beurre et 4 oeufs. Écrire une méthode ``stock_suffisant_brioche(self)`` qui renvoie un booléen : VRAI s'il y a assez d'ingrédients dans le stock pour faire une brioche et FAUX sinon."
   ]
  },
  {
   "cell_type": "code",
   "execution_count": 4,
   "metadata": {},
   "outputs": [
    {
     "name": "stdout",
     "output_type": "stream",
     "text": [
      "farine: 0\n",
      "oeuf: 0\n",
      "beurre: 0\n",
      "farine: 0\n",
      "oeuf: 0\n",
      "beurre: 560\n"
     ]
    }
   ],
   "source": [
    "class Stock:\n",
    "    def __init__(self):\n",
    "        self.qt_farine = 0 # quantité de farine initialisée à 0 g\n",
    "        self.nb_oeufs = 0 # nombre d’œufs (0 à l’initialisation)\n",
    "        self.qt_beurre = 0 # quantité de beurre initialisée à 0 g\n",
    "    \n",
    "    def ajouter_beurre(self, qt): #question 1\n",
    "        self.qt_beurre += qt\n",
    "    \n",
    "    def ajouter_farine(self, qt):\n",
    "        self.qt_farine += qt\n",
    "    \n",
    "    def ajouter_oeufs(self, qt):\n",
    "        self.nb_oeufs += qt\n",
    "    \n",
    "    def afficher(self): #question 2\n",
    "        print(f\"farine: {self.qt_farine}\")\n",
    "        print(f\"oeuf: {self.nb_oeufs}\")\n",
    "        print(f\"beurre: {self.qt_beurre}\")\n",
    "    \n",
    "    def stock_suffisant_brioche(self): #question 3\n",
    "        return self.qt_farine >= 350 and self.qt_beurre >= 175 and self.nb_oeufs >= 4\n",
    "    \n",
    "    def produire(self):\n",
    "        res = 0 \n",
    "        while self.stock_suffisant_brioche():\n",
    "            self.qt_beurre = self.qt_beurre - 175 \n",
    "            self.qt_farine = self.qt_farine - 350 \n",
    "            self.nb_oeufs = self.nb_oeufs - 4 \n",
    "            res = res + 1\n",
    "        return res\n",
    "\n",
    "# Vérification :\n",
    "mon_stock = Stock() \n",
    "mon_stock.afficher() \n",
    "mon_stock.ajouter_beurre(560) \n",
    "mon_stock.afficher() "
   ]
  },
  {
   "cell_type": "markdown",
   "metadata": {},
   "source": [
    "4.\tOn considère la méthode supplémentaire ``produire(self)`` de la classe ``Stock`` donnée par le code suivant :\n",
    "\n",
    "    ````py\n",
    "    def produire(self):\n",
    "        res = 0 \n",
    "        while self.stock_suffisant_brioche():\n",
    "            self.qt_beurre = self.qt_beurre - 175 \n",
    "            self.qt_farine = self.qt_farine - 350 \n",
    "            self.nb_oeufs = self.nb_oeufs - 4 \n",
    "            res = res + 1\n",
    "        return res\n",
    "    ````\n",
    "\n",
    "    On considère un stock défini par les instructions suivantes :\n",
    "\n",
    "    ````pycon\n",
    "    >>> mon_stock=Stock()\n",
    "    >>> mon_stock.ajouter_beurre(1000)\n",
    "    >>> mon_stock.ajouter_farine(1000) \n",
    "    >>> mon_stock.ajouter_oeufs(10)\n",
    "    ````\n",
    "\n",
    "    1. On exécute ensuite l’instruction : ``>>> mon_stock.produire()``. Quelle valeur s’affiche dans la console ? Que représente cette valeur ?\n",
    "\n",
    "        <p style=\"color:limegreen\">La méthode `produire` comporte une boucle qui s'exécute tant que le stock est suffisant pour faire une brioche. À chaque passage dans cette boucle, les quantités d'ingrédients sont diminués des quantités nécessaires à la fabrication d'une brioche et la variable compteur res est incrémentée. À la fin de l'exécution de la méthode, res contient donc le nombre maximal de brioches que l'on peut produire avec le stock. 1000 g de beurre permettent de produire au maximum 5 brioches, 1000 g de farine 2 brioches et 10 oeufs 2 brioches. La valeur 2 va donc s'afficher dans la console. </p>\n",
    "\n",
    "    2. On exécute ensuite l’instruction : ``>>> mon_stock.afficher()``. Que s’affiche-t-il dans la console ?\n",
    "\n",
    "        <p style=\"color:limegreen\">On a produit 2 brioches. Il reste 650 g de beurre, 300 g de farine et 2 oeufs.</p>\n",
    "\n",
    "        <p style=\"color:limegreen\">Vérification :</p>\n",
    "    "
   ]
  },
  {
   "cell_type": "code",
   "execution_count": 5,
   "metadata": {},
   "outputs": [
    {
     "name": "stdout",
     "output_type": "stream",
     "text": [
      "2\n",
      "farine: 300\n",
      "oeuf: 2\n",
      "beurre: 650\n"
     ]
    }
   ],
   "source": [
    "mon_stock=Stock()\n",
    "mon_stock.ajouter_beurre(1000) \n",
    "mon_stock.ajouter_farine(1000) \n",
    "mon_stock.ajouter_oeufs(10)\n",
    "print(mon_stock.produire())\n",
    "mon_stock.afficher()"
   ]
  },
  {
   "cell_type": "markdown",
   "metadata": {},
   "source": [
    "5. L’industriel possède n lieux de production distincts et donc n stocks distincts.\n",
    "\n",
    "    On suppose que ces stocks sont dans une liste dont chaque élément est un objet de type ``Stock``. Écrire une fonction Python ``nb_brioches(liste_stocks)`` possédant pour unique paramètre la liste des stocks et qui renvoie le nombre total de brioches produites."
   ]
  },
  {
   "cell_type": "code",
   "execution_count": 6,
   "metadata": {},
   "outputs": [],
   "source": [
    "def nb_brioches(liste_stocks):\n",
    "    nb = 0\n",
    "    for stock in liste_stocks:\n",
    "        nb += stock.produire()\n",
    "    return nb"
   ]
  }
 ],
 "metadata": {
  "kernelspec": {
   "display_name": "Python 3.10.6 64-bit",
   "language": "python",
   "name": "python3"
  },
  "language_info": {
   "codemirror_mode": {
    "name": "ipython",
    "version": 3
   },
   "file_extension": ".py",
   "mimetype": "text/x-python",
   "name": "python",
   "nbconvert_exporter": "python",
   "pygments_lexer": "ipython3",
   "version": "3.10.6"
  },
  "orig_nbformat": 4,
  "vscode": {
   "interpreter": {
    "hash": "e7370f93d1d0cde622a1f8e1c04877d8463912d04d973331ad4851f04de6915a"
   }
  }
 },
 "nbformat": 4,
 "nbformat_minor": 2
}
