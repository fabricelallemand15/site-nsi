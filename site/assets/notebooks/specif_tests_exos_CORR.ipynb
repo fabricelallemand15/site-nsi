{
 "cells": [
  {
   "cell_type": "markdown",
   "metadata": {},
   "source": [
    "# Correction de la fiche d'exercices sur la spécification et la mise au point des fonctions.\n",
    "\n",
    "*Les zones de codes sont exécutables directement dans le document et doivent être exécutées dans l'ordre.*\n",
    "\n",
    "## Exercice 1\n",
    "\n",
    "1. Dans la console Python, importer toutes les fonctions du module `statistics` qui, comme son nom l'indique, permet de réaliser quelques calculs statistiques !\n",
    "2. Taper ensuite les commandes permettant d'afficher les spécifications des fonctions `mean` (calcul de la moyenne), `median` (calcul de la médiane) et `quantiles` (calcul des quantiles).\n",
    "3. Recopier ces spécifications.\n",
    "\n",
    "## Corrigé"
   ]
  },
  {
   "cell_type": "code",
   "execution_count": null,
   "metadata": {},
   "outputs": [],
   "source": [
    "from statistics import *\n",
    "\n",
    "help(mean)"
   ]
  },
  {
   "cell_type": "code",
   "execution_count": null,
   "metadata": {},
   "outputs": [],
   "source": [
    "help(median)"
   ]
  },
  {
   "cell_type": "code",
   "execution_count": null,
   "metadata": {},
   "outputs": [],
   "source": [
    "help(quantiles)"
   ]
  },
  {
   "cell_type": "markdown",
   "metadata": {},
   "source": [
    "------------------------------------------------\n",
    "\n",
    "## Exercice 2\n",
    "\n",
    "La fonction `punition()` affiche une phrase de punition un certain nombre de fois donné en paramètre.\n",
    "\n",
    "````py\n",
    "def punition(nombrecopies) : \n",
    "    for compteur in range (1,nombrecopies+1,1) :\n",
    "        print(\"Je ne dois pas bavarder en classe.\")\n",
    "````\n",
    "\n",
    "1. Parmi les appels suivants, lesquels vont provoquer une erreur ?\n",
    "    \n",
    "    * `punition(\"Marcello\")`\n",
    "    * `punition(200)`\n",
    "    * `punition( )`\n",
    "    * `punition(3.5)`\n",
    "    * `punition(-10)`\n",
    "\n",
    "2. Ajouter dans la fonction un `assert` de précondition avec une phrase d’erreur et le tester.\n",
    "\n",
    "## Correction\n",
    "\n",
    "1. \n",
    "    * La proposition 1 provoque une erreur cer elle appelle la fonction avec une valeur de type `str` pour `nombrecopies`, ce qui ne peut pas entrer en argument dans la fonction `range`.\n",
    "\n",
    "    * La proposition 3 provoque une erreur car la fonction doit avoir un argument.\n",
    "\n",
    "    * La proposition 4 provoque une erreur car la variable `nombrecopies` doit être de type entier `int` pour pouvoir être utilisée dans la fonction `range`.\n",
    "\n",
    "    Remarquons que la proposition 5 ne provoque pas d'erreur : simplement, on ne rentre pas dans la boucle `for` et rien ne s'affiche.\n",
    "\n",
    "2. "
   ]
  },
  {
   "cell_type": "code",
   "execution_count": null,
   "metadata": {},
   "outputs": [],
   "source": [
    "def punition(nombrecopies) : \n",
    "        assert type(nombrecopies) == int, \"Erreur : le nombre de copies doit être un entier !\"\n",
    "        assert nombrecopies > 0, \"Erreur : le nombre de copies doit être strictement positif !\"\n",
    "        for compteur in range (1,nombrecopies+1,1) :\n",
    "            print(\"Je ne dois pas bavarder en classe.\")\n",
    "\n",
    "punition(-10)"
   ]
  },
  {
   "cell_type": "markdown",
   "metadata": {},
   "source": [
    "---------------------------------------\n",
    "\n",
    "## Exercice 3\n",
    "\n",
    "L’Indice de Masse Corporelle se calcule par la formule $IMC = \\frac{masse}{taille^2}$, où la masse est en kilogrammes et la taille en mètres. Un IMC est considéré comme normal s’il est compris entre 18,5\n",
    "et 25. En dessous de 18,5, la personne est en sous-poids et au-dessus de 25 elle est en sur-poids.\n",
    "\n",
    "1. Écrire une fonction d’en-tête `imc(m, t)` qui renvoie la classification de l’IMC correspondant à\n",
    "une masse de `m` kilogrammes et une taille de `t` mètres : classe 0 pour sous-poids, 1 pour normal et\n",
    "2 pour surpoids.\n",
    "2. Détailler précisément la spécification de cette fonction et proposer des préconditions pertinentes à tester.\n",
    "3. Écrire une fonction `test_IMC()` mettant en oeuvre un jeu de tests unitaires pour la fonction `imc(m, t)`.\n",
    "\n",
    "## Correction\n",
    "\n",
    "1. "
   ]
  },
  {
   "cell_type": "code",
   "execution_count": null,
   "metadata": {},
   "outputs": [],
   "source": [
    "def imc(m, t):\n",
    "    IMC = m / t**2\n",
    "    if IMC < 18.5:\n",
    "        return 0\n",
    "    elif IMC <= 25:\n",
    "        return 1\n",
    "    else:\n",
    "        return 2"
   ]
  },
  {
   "cell_type": "markdown",
   "metadata": {},
   "source": [
    "2. "
   ]
  },
  {
   "cell_type": "code",
   "execution_count": null,
   "metadata": {},
   "outputs": [],
   "source": [
    "def imc(m: float, t: float) -> int:\n",
    "    \"\"\"Renvoie la classification de l'IMC. m est en kg, t est en m\"\"\"\n",
    "    assert type(m) == int or type(m) == float, \"Erreur : la masse doit être un nombre !\"\n",
    "    assert type(t) == int or type(t) == float, \"Erreur : la taille doit être un nombre !\"\n",
    "    assert t > 0, \"Erreur : la taille doit être positive !\"\n",
    "    assert m > 0, \"Erreur : la masse doit être positive !\"\n",
    "    IMC = m / t**2\n",
    "    if IMC < 18.5:\n",
    "        return 0\n",
    "    elif IMC <= 25:\n",
    "        return 1\n",
    "    else:\n",
    "        return 2"
   ]
  },
  {
   "cell_type": "markdown",
   "metadata": {},
   "source": [
    "3. "
   ]
  },
  {
   "cell_type": "code",
   "execution_count": null,
   "metadata": {},
   "outputs": [],
   "source": [
    "def test_IMC():\n",
    "    \"\"\"jeu de tests pour la fonction imc\"\"\"\n",
    "    assert imc(60, 1.7) == 1\n",
    "    assert imc(50, 1.7) == 0\n",
    "    assert imc(90,1.7) == 2\n",
    "    print(\"Tous les tests sont réussis !\")\n",
    "\n",
    "test_IMC()"
   ]
  },
  {
   "cell_type": "markdown",
   "metadata": {},
   "source": [
    "---------------------\n",
    "\n",
    "## Exercice 4\n",
    "\n",
    "Écrire une fonction `mention(note)` et sa spécification qui prend en paramètre une note et renvoie la chaîne de caractères ’R’ si $note < 10$, ’A’ si $10 \\leqslant note < 12$, ’AB’ si $12\\leqslant note < 14$, ’B’ si $14 \\leqslant note < 16$ et ’TB’ sinon.\n",
    "\n",
    "On vérifiera d’abord que la note passée en paramètre est comprise entre 0 et 20.\n",
    "\n",
    "Proposer un jeu de tests unitaires pour cette fonction.\n",
    "\n",
    "## Correction"
   ]
  },
  {
   "cell_type": "code",
   "execution_count": null,
   "metadata": {},
   "outputs": [],
   "source": [
    "def mention(note: float) -> str:\n",
    "    \"\"\"Renvoie la mention obtenue en fonction de la note\"\"\"\n",
    "    assert type(note) == float or type(note) == int, \"Erreur : la note doit être un nombre !\"\n",
    "    assert note >= 0 and note <= 20, \"Erreur : la note doit être comprise entre 0 et 20 !\"\n",
    "    if note < 10:\n",
    "        res = \"R\"\n",
    "    elif note < 12:\n",
    "        res = \"A\"\n",
    "    elif note < 14:\n",
    "        res = \"AB\"\n",
    "    elif note < 16:\n",
    "        res = \"B\"\n",
    "    else:\n",
    "        res = \"TB\"\n",
    "    return res\n",
    "\n",
    "# Tests\n",
    "assert mention(5) == \"R\"\n",
    "assert mention(10) == \"A\"\n",
    "assert mention(12) == \"AB\"\n",
    "assert mention(14) == \"B\"\n",
    "assert mention(16) == \"TB\"\n",
    "print('Tests réussis !')"
   ]
  }
 ],
 "metadata": {
  "kernelspec": {
   "display_name": "Python 3.10.6 64-bit",
   "language": "python",
   "name": "python3"
  },
  "language_info": {
   "codemirror_mode": {
    "name": "ipython",
    "version": 3
   },
   "file_extension": ".py",
   "mimetype": "text/x-python",
   "name": "python",
   "nbconvert_exporter": "python",
   "pygments_lexer": "ipython3",
   "version": "3.10.6"
  },
  "orig_nbformat": 4,
  "vscode": {
   "interpreter": {
    "hash": "e7370f93d1d0cde622a1f8e1c04877d8463912d04d973331ad4851f04de6915a"
   }
  }
 },
 "nbformat": 4,
 "nbformat_minor": 2
}
