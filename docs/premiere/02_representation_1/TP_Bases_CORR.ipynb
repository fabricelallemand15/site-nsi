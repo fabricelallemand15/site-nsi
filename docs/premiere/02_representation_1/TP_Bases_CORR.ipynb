{
 "cells": [
  {
   "cell_type": "markdown",
   "id": "65d5974e",
   "metadata": {},
   "source": [
    "# TP : Bases 2, 10 et 16 en Python - Correction\n",
    "\n",
    "## Exercice 1\n",
    "\n",
    "1. Lire la documentation des fonctions Python `bin()`, `hex()` et `int()`.\n",
    "2. Prévoir ce qui s'affichera après chacune des instructions ci-dessous, puis tester en console :\n",
    "\n",
    "````pycon\n",
    ">>> bin(123)\n",
    ">>> int(\"0b1111\")\n",
    ">>> int(\"0b10101\", 2)\n",
    ">>> bin(0)\n",
    ">>> int(\"0b101211\", 2)\n",
    ">>> hex(2022)\n",
    ">>> int(\"0xABC\", 16)\n",
    "````\n"
   ]
  },
  {
   "cell_type": "code",
   "execution_count": 2,
   "id": "de200774",
   "metadata": {},
   "outputs": [
    {
     "data": {
      "text/plain": [
       "'0b1111011'"
      ]
     },
     "execution_count": 2,
     "metadata": {},
     "output_type": "execute_result"
    }
   ],
   "source": [
    "bin(123)"
   ]
  },
  {
   "cell_type": "code",
   "execution_count": 8,
   "id": "aa0abb07",
   "metadata": {},
   "outputs": [
    {
     "data": {
      "text/plain": [
       "1111"
      ]
     },
     "execution_count": 8,
     "metadata": {},
     "output_type": "execute_result"
    }
   ],
   "source": [
    "int(b'1111')  # erreur dans l'énoncé"
   ]
  },
  {
   "cell_type": "code",
   "execution_count": 5,
   "id": "1317887d",
   "metadata": {},
   "outputs": [
    {
     "data": {
      "text/plain": [
       "21"
      ]
     },
     "execution_count": 5,
     "metadata": {},
     "output_type": "execute_result"
    }
   ],
   "source": [
    "int(\"0b10101\", 2)"
   ]
  },
  {
   "cell_type": "code",
   "execution_count": 6,
   "id": "724bdecb",
   "metadata": {},
   "outputs": [
    {
     "data": {
      "text/plain": [
       "'0b0'"
      ]
     },
     "execution_count": 6,
     "metadata": {},
     "output_type": "execute_result"
    }
   ],
   "source": [
    "bin(0)"
   ]
  },
  {
   "cell_type": "code",
   "execution_count": 10,
   "id": "d9c3998c",
   "metadata": {},
   "outputs": [
    {
     "data": {
      "text/plain": [
       "47"
      ]
     },
     "execution_count": 10,
     "metadata": {},
     "output_type": "execute_result"
    }
   ],
   "source": [
    "int(\"0b101211\", 2) # le chiffre 2 n'existe pas en base 2 !"
   ]
  },
  {
   "cell_type": "code",
   "execution_count": 11,
   "id": "49daac3a",
   "metadata": {},
   "outputs": [
    {
     "data": {
      "text/plain": [
       "'0x7e6'"
      ]
     },
     "execution_count": 11,
     "metadata": {},
     "output_type": "execute_result"
    }
   ],
   "source": [
    "hex(2022)"
   ]
  },
  {
   "cell_type": "code",
   "execution_count": 12,
   "id": "80775879",
   "metadata": {},
   "outputs": [
    {
     "data": {
      "text/plain": [
       "2748"
      ]
     },
     "execution_count": 12,
     "metadata": {},
     "output_type": "execute_result"
    }
   ],
   "source": [
    "int(\"0xABC\", 16)"
   ]
  },
  {
   "cell_type": "markdown",
   "id": "0478e7cd",
   "metadata": {},
   "source": [
    "## Exercice 2\n",
    "\n",
    "Le but de cet exercice est d'étudier une fonction permettant de convertir en base 2 un nombre entier naturel donné en base 10.\n",
    "\n",
    "On donne ci-dessous le code de la fonction `dec_to_bin` :\n",
    "\n",
    "````python\n",
    "def dec_to_bin(n):\n",
    "    chaine_bin = ''\n",
    "    nombre = n\n",
    "    while nombre > 0:\n",
    "        r = nombre % 2\n",
    "        nombre = nombre // 2\n",
    "        chaine_bin = str(r) + chaine_bin\n",
    "    return chaine_bin\n",
    "````\n",
    "\n",
    "1. Tester cette fonction avec quelques valeurs de $n$ et vérifier qu'elle effectue bien la conversion attendue.\n",
    "2. Quel est la méthode utilisée ? Faire le lien avec un des exemples du cours.\n",
    "3. On souhaite convertir le nombre $n=105$ en binaire. Recopier et compléter le tableau d'état des variables lors de l'appel `dec_to_bin(105)`. L'étape zéro correspond à l'initialisation, l'étape 1 à l'état des variables **après** le premier passage dans la boucle `while`.\n",
    "\n",
    "    | Etape | `chaine_bin` | `nombre` | `r` |\n",
    "    | :---: | :---: | :---: | :---: |\n",
    "    |0|\"\"|102| / |\n",
    "    |1| ... | ... | ... |\n",
    "\n",
    "4. Modifier la fonction afin que le préfixe `0b` soit présent dans la chaîne retournée.\n"
   ]
  },
  {
   "cell_type": "code",
   "execution_count": 13,
   "id": "e231bcf9",
   "metadata": {},
   "outputs": [],
   "source": [
    "def dec_to_bin(n):\n",
    "    chaine_bin = ''\n",
    "    nombre = n\n",
    "    while nombre > 0:\n",
    "        r = nombre % 2\n",
    "        nombre = nombre // 2\n",
    "        chaine_bin = str(r) + chaine_bin\n",
    "    return chaine_bin"
   ]
  },
  {
   "cell_type": "code",
   "execution_count": 14,
   "id": "a0689ebf",
   "metadata": {},
   "outputs": [
    {
     "data": {
      "text/plain": [
       "'100'"
      ]
     },
     "execution_count": 14,
     "metadata": {},
     "output_type": "execute_result"
    }
   ],
   "source": [
    "dec_to_bin(4)"
   ]
  },
  {
   "cell_type": "code",
   "execution_count": 15,
   "id": "c232f24f",
   "metadata": {},
   "outputs": [
    {
     "data": {
      "text/plain": [
       "'10101'"
      ]
     },
     "execution_count": 15,
     "metadata": {},
     "output_type": "execute_result"
    }
   ],
   "source": [
    "dec_to_bin(21)"
   ]
  },
  {
   "cell_type": "markdown",
   "id": "da3a5245",
   "metadata": {},
   "source": [
    "La méthode utilisée est celle des divisions successives en conservant les restes. C'est la méthode utilisée dans le cours.\n",
    "\n",
    "Tableau d'exécution pour $n=105$ : \n",
    "\n",
    "| Etape | `chaine_bin` | `nombre` | `r` |\n",
    "| :---: | :---: | :---: | :---: |\n",
    "|0|\"\"|105| / |\n",
    "|1| \"1\" | 52 | 1 |\n",
    "|2| \"01\" | 26 | 0 |\n",
    "|3| \"001\" | 13 | 0 |\n",
    "|4| \"1001\" | 6 | 1 |\n",
    "|5| \"01001\" | 3 | 0 |\n",
    "|6| \"101001\" | 1 | 1 |\n",
    "|7| \"1101001\" | 0 | 1 |"
   ]
  },
  {
   "cell_type": "code",
   "execution_count": 16,
   "id": "59e41047",
   "metadata": {},
   "outputs": [
    {
     "data": {
      "text/plain": [
       "'1101001'"
      ]
     },
     "execution_count": 16,
     "metadata": {},
     "output_type": "execute_result"
    }
   ],
   "source": [
    "# Vérification\n",
    "dec_to_bin(105)"
   ]
  },
  {
   "cell_type": "code",
   "execution_count": 17,
   "id": "3ee4d889",
   "metadata": {},
   "outputs": [
    {
     "name": "stdout",
     "output_type": "stream",
     "text": [
      "0b1101001\n"
     ]
    }
   ],
   "source": [
    "# Modification demandée\n",
    "\n",
    "def dec_to_bin_modif(n):\n",
    "    chaine_bin = ''\n",
    "    nombre = n\n",
    "    while nombre > 0:\n",
    "        r = nombre % 2\n",
    "        nombre = nombre // 2\n",
    "        chaine_bin = str(r) + chaine_bin\n",
    "    return \"0b\"+chaine_bin\n",
    "\n",
    "# Vérification\n",
    "\n",
    "print(dec_to_bin_modif(105))"
   ]
  },
  {
   "cell_type": "markdown",
   "id": "33a50f18",
   "metadata": {},
   "source": [
    "##  Exercice 3\n",
    "\n",
    "1. Écrire une fonction qui respecte les spécifications indiquées : \n",
    "    \n",
    "    ````python\n",
    "    def add_2_bits(a: int, b: int) -> str\n",
    "        \"\"\"a et b sont des bits égaux à 0 ou 1\n",
    "        retourne une chaine représentant en base 2\n",
    "        la somme de a et de b\"\"\"\n",
    "    ````\n",
    "\n",
    "2. Écrire une fonction analogue `add_3_bits(a, b, c)` qui retourne la somme de trois bits.\n"
   ]
  },
  {
   "cell_type": "code",
   "execution_count": 18,
   "id": "a8d2952f",
   "metadata": {},
   "outputs": [],
   "source": [
    " def add_2_bits(a: int, b: int) -> str:\n",
    "        \"\"\"a et b sont des bits égaux à 0 ou 1\n",
    "         retourne une chaine représentant en base 2\n",
    "         la somme de a et de b\"\"\"\n",
    "        if a == 1 and b == 1:\n",
    "            rep = \"10\"\n",
    "        elif a == 1 or b == 1:\n",
    "            rep = \"1\"\n",
    "        else:\n",
    "            rep = \"0\"\n",
    "        return rep\n",
    "\n",
    "# Vérification\n",
    "\n",
    "assert add_2_bits(0,0) == \"0\"\n",
    "assert add_2_bits(1,0) == \"1\"\n",
    "assert add_2_bits(0,1) == \"1\"\n",
    "assert add_2_bits(1,1) == \"10\""
   ]
  },
  {
   "cell_type": "code",
   "execution_count": 19,
   "id": "0a61f6da",
   "metadata": {},
   "outputs": [],
   "source": [
    "def add_3_bits(a: int, b: int, c: int) -> str:\n",
    "    if a == 1 and b == 1:\n",
    "        if c == 1:\n",
    "            return \"11\"\n",
    "        else:\n",
    "            return \"10\"\n",
    "    elif a == 1 or b == 1:\n",
    "        if c == 1:\n",
    "            return \"10\"\n",
    "        else:\n",
    "            return \"1\"\n",
    "    else:\n",
    "        if c == 1:\n",
    "            return \"1\"\n",
    "        else:\n",
    "            return \"0\"\n",
    "        \n",
    "\n",
    "# Vérification\n",
    "\n",
    "assert add_3_bits(0,0,0) == \"0\"\n",
    "assert add_3_bits(1,0,0) == \"1\"\n",
    "assert add_3_bits(0,1,0) == \"1\"\n",
    "assert add_3_bits(0,0,1) == \"1\"\n",
    "assert add_3_bits(0,1,1) == \"10\"\n",
    "assert add_3_bits(1,0,1) == \"10\"\n",
    "assert add_3_bits(1,1,0) == \"10\"\n",
    "assert add_3_bits(1,1,1) == \"11\""
   ]
  },
  {
   "cell_type": "markdown",
   "id": "85187bb3",
   "metadata": {},
   "source": [
    "## Exercice 4\n",
    "\n",
    "Coder la fonction `complement_deux` spécifiée ci-dessous. Vous pourrez utiliser la fonction `dec_to_bin` définie à l'exercice 2 (sans le préfixe `0b`). Votre code devra tester les préconditions indiquées sur l'entier $n$.\n",
    "\n",
    "Un jeu de tests unitaires est proposé ci-dessous : il permet de vérifier que votre fonction retourne bien ce qui est attendu.\n",
    "\n",
    "````python\n",
    "def complement_deux(n:int, nbits:int)->str:\n",
    "    \"\"\"\n",
    "    Renvoie la notation en compléments à 2 de l'entier relatif n\n",
    "    sous la forme d'une chaîne de caractères\n",
    "    \n",
    "    Parameters\n",
    "    ----------\n",
    "    n : int Précondition -2**(nbits-1) <= n < 2**(nbits-1)\n",
    "    nbits : int\n",
    "    \n",
    "    Returns\n",
    "    -------\n",
    "    type str de longueur nbits\n",
    "    \"\"\"\n",
    "    pass\n",
    "\n",
    "print(complement_deux(-12,8))\n",
    "# Jeu de tests unitaires\n",
    "assert complement_deux(0, 8) == \"00000000\"\n",
    "assert complement_deux(5, 8) == \"00000101\"\n",
    "assert complement_deux(2**7 - 1, 8) == \"01111111\"\n",
    "assert complement_deux(-2**7, 8) == \"10000000\"\n",
    "assert complement_deux(2**7 - 2, 8) == \"01111110\"\n",
    "assert complement_deux(-2**7 + 1, 8) == \"10000001\"\n",
    "assert complement_deux(-1, 8) == \"11111111\"\n",
    "assert complement_deux(-2, 8) == \"11111110\"\n",
    "print(\"Bravo ! Tous les tests sont réussis !\")\n",
    "````\n",
    "\n",
    "Sortie attendue à l'exécution : \n",
    "\n",
    "````pycon\n",
    "11110100\n",
    "Bravo ! Tous les tests sont réussis !\n",
    "````"
   ]
  },
  {
   "cell_type": "code",
   "execution_count": 22,
   "id": "9c37951c",
   "metadata": {},
   "outputs": [
    {
     "name": "stdout",
     "output_type": "stream",
     "text": [
      "11110100\n",
      "Bravo ! Tous les tests sont réussis !\n"
     ]
    }
   ],
   "source": [
    "def complement_deux(n:int, nbits:int)->str:\n",
    "    \"\"\"\n",
    "    Renvoie la notation en compléments à 2 de l'entier relatif n\n",
    "    sous la forme d'une chaîne de caractères\n",
    "\n",
    "    Parameters\n",
    "    ----------\n",
    "    n : int Précondition -2**(nbits-1) <= n < 2**(nbits-1)\n",
    "    nbits : int\n",
    "\n",
    "    Returns\n",
    "    -------\n",
    "    type str de longueur nbits\n",
    "    \"\"\"\n",
    "    # Vérification de préconditions\n",
    "    assert type(n) == int and (-2**(nbits-1) <= n < 2**(nbits-1))\n",
    "    assert type(nbits) == int\n",
    "    \n",
    "    if n >=0: # n est positif\n",
    "        rep = dec_to_bin(n)\n",
    "    else: # n est négatif\n",
    "        cplt = 2**nbits - abs(n)\n",
    "        rep = dec_to_bin(cplt)\n",
    "    # On complète la chaîne pour arriver à nbits\n",
    "    while len(rep) < nbits:\n",
    "        rep = \"0\" + rep\n",
    "    return rep\n",
    "        \n",
    "\n",
    "print(complement_deux(-12,8))\n",
    "# Jeu de tests unitaires\n",
    "assert complement_deux(0, 8) == \"00000000\"\n",
    "assert complement_deux(5, 8) == \"00000101\"\n",
    "assert complement_deux(2**7 - 1, 8) == \"01111111\"\n",
    "assert complement_deux(-2**7, 8) == \"10000000\"\n",
    "assert complement_deux(2**7 - 2, 8) == \"01111110\"\n",
    "assert complement_deux(-2**7 + 1, 8) == \"10000001\"\n",
    "assert complement_deux(-1, 8) == \"11111111\"\n",
    "assert complement_deux(-2, 8) == \"11111110\"\n",
    "print(\"Bravo ! Tous les tests sont réussis !\")"
   ]
  },
  {
   "cell_type": "markdown",
   "id": "dd9e2c14",
   "metadata": {},
   "source": [
    "## Problème\n",
    "\n",
    "Écrire une fonction `ieee_754(x)` qui prend en entrée un flottant x (en base 10) et qui retourne une chaine de caractères correspondant à la représentation de $x$ selon la norme IEEE-754 sur 32 bits.\n",
    "\n",
    "_Conseils : vous pourrez décomposer le problème en plusieurs fonctions séparées pour traiter les étapes une par une._"
   ]
  },
  {
   "cell_type": "code",
   "execution_count": 28,
   "id": "a4a3f492",
   "metadata": {},
   "outputs": [
    {
     "name": "stdout",
     "output_type": "stream",
     "text": [
      "codage de 0.9218 :  0  01111110  11010111111101100010101\n",
      "codage de 0.002125 :  0  01110110  00010110100001110010101\n",
      "codage de 45.218 :  0  10000100  01101001101111100111011\n",
      "codage de 126.725 :  0  10000101  11111010111001100110011\n",
      "codage de 0.1 :  0  01111011  10011001100110011001100\n",
      "codage de 0.3333333333333333 :  0  01111101  01010101010101010101010\n",
      "codage de -2.5 :  1  10000000  01000000000000000000000\n"
     ]
    }
   ],
   "source": [
    "def ieee_754(x: float) -> str:\n",
    "    \n",
    "    \"\"\"Convertit le flottant x en binaire selon la norme ieee 754 sur 32 bits\n",
    "    Résultat retourné sous forme de chaîne de caractères\"\"\"\n",
    "    \n",
    "    # bit de signe\n",
    "    if x >= 0:\n",
    "        chaine = \"0  \"\n",
    "    else:\n",
    "        chaine = \"1  \"\n",
    "        \n",
    "    n = abs(int(x)) # partie entière de x\n",
    "    f = abs(x) - n # partie décimale de x\n",
    "    n_bin = dec_to_bin(n) # partir entière de x en binaire\n",
    "    \n",
    "    # conversion en binaire de la partie décimale f, on se limite à 100 bits maximum\n",
    "    f_bin = \"\"\n",
    "    while f != 0 and len(f_bin) < 100:\n",
    "        f = 2 * f\n",
    "        f_bin = f_bin + str(int(f))\n",
    "        f = f - int(f)\n",
    "        \n",
    "    # calcul de l'exposant\n",
    "    if n >= 1:\n",
    "        e = len(n_bin) - 1\n",
    "        # mantisse\n",
    "        m = n_bin[1:] + f_bin\n",
    "    else:\n",
    "        # cas d'un nombre de partie entière nulle\n",
    "        # on cherche le premier 1 dans la partie fractionnaire\n",
    "        e = 0\n",
    "        compteur = 0\n",
    "        while f_bin[compteur] == \"0\":\n",
    "            compteur += 1\n",
    "        e = - (compteur + 1)\n",
    "        m = f_bin[compteur+1:]\n",
    "        \n",
    "    # codage de l'exposant\n",
    "    #print(f\"exposant : {e}\")\n",
    "    e = e + 127\n",
    "    e_bin = bin(e)[2:]\n",
    "    while len(e_bin) < 8:\n",
    "        e_bin = \"0\" + e_bin\n",
    "    chaine = chaine + e_bin + \"  \"\n",
    "    \n",
    "    # mantisse : on renvoie une mantisse de taille 23 bits\n",
    "    if len(m) > 23:\n",
    "        m = m[:23]\n",
    "    while len(m) < 23:\n",
    "        m = m + \"0\"\n",
    "    chaine = chaine + m\n",
    "    return chaine\n",
    "\n",
    "\n",
    "# Vérification avec quelques exemples\n",
    "nb = [0.9218, 0.002125, 45.218, 126.725, 0.1, 0.333333333333333333333333333, -2.5]\n",
    "for item in nb:\n",
    "    print(f\"codage de {item} :  {ieee_754(item)}\")"
   ]
  },
  {
   "cell_type": "markdown",
   "id": "e80f0ed8",
   "metadata": {},
   "source": [
    "**Remarque** : le site [https://www.ultimatesolver.com/en/ieee-754](https://www.ultimatesolver.com/en/ieee-754) permet de vérifier ces réponses."
   ]
  }
 ],
 "metadata": {
  "kernelspec": {
   "display_name": "Python 3 (ipykernel)",
   "language": "python",
   "name": "python3"
  },
  "language_info": {
   "codemirror_mode": {
    "name": "ipython",
    "version": 3
   },
   "file_extension": ".py",
   "mimetype": "text/x-python",
   "name": "python",
   "nbconvert_exporter": "python",
   "pygments_lexer": "ipython3",
   "version": "3.9.13"
  }
 },
 "nbformat": 4,
 "nbformat_minor": 5
}
