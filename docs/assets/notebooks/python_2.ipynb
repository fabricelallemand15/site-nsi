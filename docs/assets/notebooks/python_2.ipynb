{
 "cells": [
  {
   "cell_type": "markdown",
   "metadata": {},
   "source": [
    "# Programmation Python - 2\n",
    "\n",
    "## Les instructions conditionnelles\n",
    "\n",
    "Dans une suite d'instructions on est souvent amené à faire des choix.\n",
    "\n",
    "**Si** une ou plusieurs conditions sont réalisées **Alors** on exécute une ou plusieurs instructions\n",
    "\n",
    "\n",
    "La structure en Python: On indente (une tabulation) les instructions qui doivent s'exécuter si la condition est vérifiée\n",
    "\n",
    "<pre>\n",
    "if condition(s) :\n",
    "    instruction1\n",
    "    instruction2\n",
    "\n",
    "</pre>\n",
    "\n",
    "**Voici un exemple qui affiche si les variables a et b  sont des entiers pairs**"
   ]
  },
  {
   "cell_type": "code",
   "execution_count": null,
   "metadata": {},
   "outputs": [],
   "source": [
    "a = 12\n",
    "if a%2 == 0:\n",
    "    print(a, \" est un entier pair\")\n",
    "    \n",
    "b = 13\n",
    "if b%2 == 0:\n",
    "    print(b,\" est un entier pair\")"
   ]
  },
  {
   "cell_type": "markdown",
   "metadata": {},
   "source": [
    "**Si.............Sinon.....**\n",
    "\n",
    "<pre>\n",
    "    if condition(s):\n",
    "        instruction1\n",
    "        instruction2\n",
    "    else:\n",
    "        instruction3\n",
    "        \n",
    " </pre>\n",
    " \n",
    " Dans cette structure, si la ou les conditions sont vraies, les instructions 1 et 2 sont exécutées.\n",
    " Sinon c'est l'instruction3 qui est exécutée.\n",
    " \n",
    " **Voici un exemple**"
   ]
  },
  {
   "cell_type": "code",
   "execution_count": null,
   "metadata": {},
   "outputs": [],
   "source": [
    "a = 12\n",
    "\n",
    "if a%2 == 0:\n",
    "    print(a, \" est un entier pair\")\n",
    "else:\n",
    "    print(a,\" est un entier impair\")"
   ]
  },
  {
   "cell_type": "markdown",
   "metadata": {},
   "source": [
    "**Si.......SinonSi......SinonSi........Sinon**\n",
    "\n",
    "<pre>\n",
    "    if condition1:\n",
    "        instruction1\n",
    "    elif condition2:\n",
    "        instruction2\n",
    "        instruction3\n",
    "    elif condition3:\n",
    "        instruction4\n",
    "    else:\n",
    "        instruction5\n",
    "</pre>\n",
    "\n",
    "Dans cette structure on teste plusieurs conditions\n",
    "\n",
    "**Voici un exemple**\n",
    "\n",
    "Cet exemple utilise la bibliothèque p5"
   ]
  },
  {
   "cell_type": "code",
   "execution_count": null,
   "metadata": {
    "scrolled": true
   },
   "outputs": [],
   "source": [
    "''' Cet exemple illustre les conditions\n",
    "la couleur du fond d'écran de la fenêtre change en fonction de la\n",
    "position de la souris'''\n",
    "\n",
    "from p5 import *\n",
    "\n",
    "def setup():\n",
    "    createCanvas(200,200) # crée une fenêtre de 200 x 200 pixels\n",
    "\n",
    "def draw():# cette fonction s'exécute  en boucle 60 fois par seconde...\n",
    "    # les conditions pour la couleur du fond d'écran\n",
    "    if mouseX > 0 and mouseX < 100: # teste la position (abscisse) de la souris sur la moité gauche (0 à 100)\n",
    "        background(255,0,0) # fond rouge\n",
    "    elif mouseX > 100 and mouseX < 200:# teste la position (abscisse) de la souris sur la moité droite (100 à 200)\n",
    "        background(0,255,0) # fond vert\n",
    "    else:\n",
    "        background(0,0,255) # fond bleu\n",
    "run()"
   ]
  },
  {
   "cell_type": "markdown",
   "metadata": {},
   "source": [
    "### Exercice 1\n",
    "\n",
    "Modifier le code suivant pour qu'il y ait 4 couleurs différentes en fonction de la position(abscisse) de la souris\n",
    "\n",
    "**mouseX** renvoie l'abscisse de la souris (0 pour le coin supérieur gauche de la fenêtre)\n",
    "\n",
    "( 0 à 50 , 50 à 100, 100 à 150 et 150 à 200)\n",
    "\n"
   ]
  },
  {
   "cell_type": "code",
   "execution_count": null,
   "metadata": {},
   "outputs": [],
   "source": [
    "from p5 import *\n",
    "\n",
    "def setup():\n",
    "    createCanvas(200,200) # crée une fenêtre de 200 x 200 pixels\n",
    "\n",
    "def draw():# cette fonction s'exécute  en boucle 60 fois par seconde...\n",
    "    # les conditions pour la couleur du fond d'écran\n",
    "    if mouseX > 0 and mouseX < 100: # teste la position (abscisse) de la souris sur la moité gauche (0 à 100)\n",
    "        background(255,120,0) # \n",
    "    elif mouseX > 100 and mouseX < 200:# teste la position (abscisse) de la souris sur la moité droite (100 à 200)\n",
    "        background(0,255,120) #\n",
    "    else:\n",
    "        background(0,0,255) # fond bleu\n",
    "run()"
   ]
  },
  {
   "cell_type": "markdown",
   "metadata": {},
   "source": [
    "### Exercice 2\n",
    "\n",
    "Reprendre le code précédent (copier-coller) et en utilisant les instructions **mouseX** et **mouseY** (qui renvoient  abscisse et ordonnée de la souris), faites en sorte qu'il y ait 4 couleurs différentes qui s'affichent suivant la position de la souris dans les quadrants:\n",
    "\n",
    "0 < mouseX <100 et 0< mouseY < 100\n",
    "\n",
    "100 < mouseX < 200  et 0< mouseY < 100\n",
    "\n",
    "0 < mouseX < 100  et 100< mouseY < 200\n",
    "\n",
    "100 < mouseX < 200  et 100< mouseY < 200"
   ]
  },
  {
   "cell_type": "code",
   "execution_count": null,
   "metadata": {},
   "outputs": [],
   "source": [
    "# code ici"
   ]
  },
  {
   "cell_type": "markdown",
   "metadata": {},
   "source": [
    "## Repérage dans la fenêtre\n",
    "\n",
    "Quand on travaille en 2 dimensions (2D), on utilise deux axes de coordonnées x et y correspondant respectivement à la largeur (axe horizontal) et à la hauteur (axe vertical).\n",
    "\n",
    "Par convention, le coin en haut à gauche du canvas correspond aux valeurs x=0 et y=0. Les valeurs x sont croissantes vers la droite et les valeurs y sont croissantes vers le bas, contrairement à notre habitude en mathématique.\n",
    "\n",
    "Ces valeurs x et y peuvent s'étendre théoriquement à l'infini, même si, en réalité, cela dépendra des dimensions de l’écran de l’ordinateur.\n",
    "\n",
    "<img src=\"https://isn-icn-ljm.pagesperso-orange.fr/TP-en-ligne/images/canvas1.png\" width=\"600px\">"
   ]
  },
  {
   "cell_type": "markdown",
   "metadata": {},
   "source": [
    "### Exercice 3\n",
    "\n",
    "Dans le code suivant on affiche dans la fenêtre 4 cercles et la couleur de fond change si la souris survole l'un des cercles.\n",
    "\n",
    "l'instruction **circle(50,50,40)** dessine un cercle de centre (50,50 ) et de diamètre 40.\n",
    "\n",
    "l'instruction **dist(x1,y1,x2,y2)** calcule la distance entre les points de coordonnées (x1,y1) et (x2,y2).\n",
    "\n",
    "**dist(mouseX,mouseY,50,50) < 20** teste si la souris est dans l'un des cercles.\n",
    "\n",
    "***Faire en sorte que le fond change de couleur au survol des 4 cercles.***"
   ]
  },
  {
   "cell_type": "code",
   "execution_count": null,
   "metadata": {},
   "outputs": [],
   "source": [
    "from p5 import *\n",
    "\n",
    "def setup():\n",
    "    createCanvas(200,200) # crée une fenêtre de 200 x 200 pixels\n",
    "\n",
    "def draw():# cette fonction s'exécute  en boucle 60 fois par seconde...\n",
    "    if dist(mouseX,mouseY,50,50) < 20:\n",
    "        background(255,255,0)\n",
    "    # à modifier ici\n",
    "    else:\n",
    "        background(51,51,51)\n",
    "    # ne pas modifier...\n",
    "    fill(0,0,0)\n",
    "    circle(50,50,40)\n",
    "    circle(150,150,40)\n",
    "    circle(150,50,40)\n",
    "    circle(50,150,40)\n",
    "    \n",
    "run()"
   ]
  },
  {
   "cell_type": "markdown",
   "metadata": {},
   "source": [
    "### Exercice 4\n",
    "\n",
    "le code ci-dessous montre \"une balle\" se déplaçant sur un axe horizontal dans une fenêtre en rebondissant sur les bords.\n",
    "\n",
    "***Faire en sorte qu'elle se déplace aussi dans la verticale en rebondissant sur les bords inférieur et supérieur de la fenêtre.***\n"
   ]
  },
  {
   "cell_type": "code",
   "execution_count": null,
   "metadata": {},
   "outputs": [],
   "source": [
    "from p5 import *\n",
    "\n",
    "def setup():\n",
    "    global bx,by,vx,vy,r\n",
    "    r = 20\n",
    "    bx = 50\n",
    "    by = 50\n",
    "    vx = 4\n",
    "    vy = 5\n",
    "    createCanvas(400,200) # crée une fenêtre de 200 x 200 pixels\n",
    "\n",
    "def draw():# cette fonction s'exécute  en boucle 60 fois par seconde...\n",
    "    global bx,by,vx,vy,r\n",
    "    background(0,0,0)# fond noir\n",
    "    # mouvement du cercle sur l'axe horizontal\n",
    "    bx = bx + vx\n",
    "    # rebond sur les bords gauche et droit\n",
    "    if bx < r or bx > 400 - r:\n",
    "        vx = -vx\n",
    "    # dessin du cercle\n",
    "    fill(255,0,0)\n",
    "    circle(bx,by,2*r)    \n",
    "    \n",
    "run()"
   ]
  },
  {
   "cell_type": "markdown",
   "metadata": {},
   "source": [
    "### Exercice 5\n",
    "\n",
    "**Reprendre le code précédent et faire en sorte que la \"balle\" change de couleur à chaque rebond**\n",
    "\n",
    "Pour utiliser une couleur aléatoire, on pourra utiliser l'instruction:\n",
    "\n",
    "**fill(random(255),random(255),random(255))**"
   ]
  },
  {
   "cell_type": "code",
   "execution_count": null,
   "metadata": {},
   "outputs": [],
   "source": [
    "# le code ici"
   ]
  },
  {
   "cell_type": "code",
   "execution_count": null,
   "metadata": {},
   "outputs": [],
   "source": []
  }
 ],
 "metadata": {
  "kernelspec": {
   "display_name": "Python 3.10.6 64-bit",
   "language": "python",
   "name": "python3"
  },
  "language_info": {
   "codemirror_mode": {
    "name": "ipython",
    "version": 3
   },
   "file_extension": ".py",
   "mimetype": "text/x-python",
   "name": "python",
   "nbconvert_exporter": "python",
   "pygments_lexer": "ipython3",
   "version": "3.10.6"
  },
  "vscode": {
   "interpreter": {
    "hash": "e7370f93d1d0cde622a1f8e1c04877d8463912d04d973331ad4851f04de6915a"
   }
  }
 },
 "nbformat": 4,
 "nbformat_minor": 2
}
